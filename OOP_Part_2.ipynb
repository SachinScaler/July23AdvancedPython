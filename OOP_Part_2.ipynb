{
  "nbformat": 4,
  "nbformat_minor": 0,
  "metadata": {
    "colab": {
      "provenance": [],
      "authorship_tag": "ABX9TyNmcwtICUYJu0PB9ri425qI",
      "include_colab_link": true
    },
    "kernelspec": {
      "name": "python3",
      "display_name": "Python 3"
    },
    "language_info": {
      "name": "python"
    }
  },
  "cells": [
    {
      "cell_type": "markdown",
      "metadata": {
        "id": "view-in-github",
        "colab_type": "text"
      },
      "source": [
        "<a href=\"https://colab.research.google.com/github/SachinScaler/July23AdvancedPython/blob/main/OOP_Part_2.ipynb\" target=\"_parent\"><img src=\"https://colab.research.google.com/assets/colab-badge.svg\" alt=\"Open In Colab\"/></a>"
      ]
    },
    {
      "cell_type": "code",
      "execution_count": 1,
      "metadata": {
        "colab": {
          "base_uri": "https://localhost:8080/"
        },
        "id": "xA2aLYar7lJY",
        "outputId": "29f4e25c-6f39-4a0d-8ad9-9975403ee225"
      },
      "outputs": [
        {
          "output_type": "stream",
          "name": "stdout",
          "text": [
            "Hello World\n"
          ]
        }
      ],
      "source": [
        "print(\"Hello World\")"
      ]
    },
    {
      "cell_type": "markdown",
      "source": [
        "## initializer is a dunder method which gets excecute when class is instatiated:"
      ],
      "metadata": {
        "id": "ugq1-6Ru8Sn-"
      }
    },
    {
      "cell_type": "code",
      "source": [
        "class BankAccount:\n",
        "    acc_id = 100\n",
        "    def __init__(self ,balance):\n",
        "        self.balance = balance\n",
        "        self.acc_id=BankAccount.acc_id\n",
        "        BankAccount.acc_id+=1\n",
        "\n",
        "    def get_details(self):\n",
        "        return f\"AccID: {self.acc_id}\\tBalance: {self.balance}\"\n",
        "\n",
        "BA1=BankAccount(1000) # init for BA1\n",
        "BA2=BankAccount(1000) # init for BA2\n",
        "BA1.balance=9999\n",
        "print(BA1.get_details())\n",
        "print(BA2.get_details())"
      ],
      "metadata": {
        "colab": {
          "base_uri": "https://localhost:8080/"
        },
        "id": "-qoUHE31ACsM",
        "outputId": "2a3b65cc-c543-4028-944d-310831c26dfc"
      },
      "execution_count": 17,
      "outputs": [
        {
          "output_type": "stream",
          "name": "stdout",
          "text": [
            "AccID: 100\tBalance: 9999\n",
            "AccID: 101\tBalance: 1000\n"
          ]
        }
      ]
    },
    {
      "cell_type": "code",
      "source": [],
      "metadata": {
        "id": "EyoPI0RMEkic"
      },
      "execution_count": 18,
      "outputs": []
    },
    {
      "cell_type": "markdown",
      "source": [
        "`__str__`: overrides the print behaviour of object"
      ],
      "metadata": {
        "id": "7FDt6LDlEbe5"
      }
    },
    {
      "cell_type": "code",
      "source": [
        "class BankAccount:\n",
        "    acc_id = 100\n",
        "    def __init__(self ,balance):\n",
        "        self.balance = balance\n",
        "        self.acc_id=BankAccount.acc_id\n",
        "        BankAccount.acc_id+=1\n",
        "\n",
        "    def __str__(self):\n",
        "        return f\"AccID: {self.acc_id}\\tBalance: {self.balance}\"\n",
        "\n",
        "BA1=BankAccount(1000) # init for BA1\n",
        "BA2=BankAccount(1000) # init for BA2\n",
        "BA1.balance=9999\n",
        "print(BA1)\n",
        "print(BA2)"
      ],
      "metadata": {
        "colab": {
          "base_uri": "https://localhost:8080/"
        },
        "id": "N2BoNqfNE1R2",
        "outputId": "aade6dc8-1d62-40ae-d638-b6389a618f06"
      },
      "execution_count": 21,
      "outputs": [
        {
          "output_type": "stream",
          "name": "stdout",
          "text": [
            "AccID: 100\tBalance: 9999\n",
            "AccID: 101\tBalance: 1000\n"
          ]
        }
      ]
    },
    {
      "cell_type": "code",
      "source": [
        "class BankAccount:\n",
        "    acc_id = 100\n",
        "    def __init__(self ,balance):\n",
        "        self.balance = balance\n",
        "        self.acc_id=BankAccount.acc_id\n",
        "        BankAccount.acc_id+=1\n",
        "\n",
        "    def __str__(self):\n",
        "        return f\"AccID: {self.acc_id}\\tBalance: {self.balance}\"\n",
        "\n",
        "    def __eq__(self,obj):\n",
        "        if self.balance==obj.balance:\n",
        "            return True\n",
        "        else:\n",
        "            return False\n",
        "\n",
        "\n",
        "BA1=BankAccount(1000) # init for BA1\n",
        "BA2=BankAccount(1000) # init for BA2\n",
        "BA1.balance=9999\n",
        "print(BA1==BA2)"
      ],
      "metadata": {
        "colab": {
          "base_uri": "https://localhost:8080/"
        },
        "id": "Ile8YnHkFi20",
        "outputId": "a0e90e70-7069-4720-e97a-5b66d135a100"
      },
      "execution_count": 26,
      "outputs": [
        {
          "output_type": "stream",
          "name": "stdout",
          "text": [
            "True\n"
          ]
        }
      ]
    },
    {
      "cell_type": "code",
      "source": [
        "class BankAccount:\n",
        "    acc_id = 100\n",
        "    def __init__(self ,balance):\n",
        "        self.balance = balance\n",
        "        self.acc_id=BankAccount.acc_id\n",
        "        BankAccount.acc_id+=1\n",
        "\n",
        "    def __str__(self):\n",
        "        return f\"AccID: {self.acc_id}\\tBalance: {self.balance}\"\n",
        "    def __eq__(self,obj):\n",
        "        if self.balance==obj.balance:\n",
        "            return True\n",
        "        else:\n",
        "            return False\n",
        "    def __gt__(self,obj):\n",
        "        if self.balance>obj.balance:\n",
        "            return True\n",
        "        else:\n",
        "            return False\n",
        "\n",
        "BA1=BankAccount(1000) # init for BA1\n",
        "BA2=BankAccount(1000) # init for BA2\n",
        "BA1.balance=9999\n",
        "print(BA1>BA2)"
      ],
      "metadata": {
        "colab": {
          "base_uri": "https://localhost:8080/"
        },
        "id": "3tconRQ3FtCk",
        "outputId": "57dd5c3d-35e5-4083-87c2-469713d0eb85"
      },
      "execution_count": 27,
      "outputs": [
        {
          "output_type": "stream",
          "name": "stdout",
          "text": [
            "True\n"
          ]
        }
      ]
    },
    {
      "cell_type": "code",
      "source": [
        "dir(BA1)"
      ],
      "metadata": {
        "colab": {
          "base_uri": "https://localhost:8080/"
        },
        "id": "RgH3_nnrF41M",
        "outputId": "8bb70e39-41db-4f06-c835-3bc5ad849c3e"
      },
      "execution_count": 24,
      "outputs": [
        {
          "output_type": "execute_result",
          "data": {
            "text/plain": [
              "['__class__',\n",
              " '__delattr__',\n",
              " '__dict__',\n",
              " '__dir__',\n",
              " '__doc__',\n",
              " '__eq__',\n",
              " '__format__',\n",
              " '__ge__',\n",
              " '__getattribute__',\n",
              " '__gt__',\n",
              " '__hash__',\n",
              " '__init__',\n",
              " '__init_subclass__',\n",
              " '__le__',\n",
              " '__lt__',\n",
              " '__module__',\n",
              " '__ne__',\n",
              " '__new__',\n",
              " '__reduce__',\n",
              " '__reduce_ex__',\n",
              " '__repr__',\n",
              " '__setattr__',\n",
              " '__sizeof__',\n",
              " '__str__',\n",
              " '__subclasshook__',\n",
              " '__weakref__',\n",
              " 'acc_id',\n",
              " 'balance']"
            ]
          },
          "metadata": {},
          "execution_count": 24
        }
      ]
    },
    {
      "cell_type": "markdown",
      "source": [
        "ACCESS SPECIFIERS:\n",
        "- public Vars: Can be accessed anywhere (Inside the class as well as outside)\n",
        "- Private Vars: `__` prefix, can't be accessed outside of class"
      ],
      "metadata": {
        "id": "Ap7BR7k4GuIm"
      }
    },
    {
      "cell_type": "code",
      "source": [
        "class BankAccount:\n",
        "    acc_id = 100\n",
        "    def __init__(self ,balance):\n",
        "        self.balance = balance\n",
        "        self.acc_id=BankAccount.acc_id\n",
        "        BankAccount.acc_id+=1\n",
        "\n",
        "    def __str__(self):\n",
        "        return f\"AccID: {self.acc_id}\\tBalance: {self.balance}\"\n",
        "\n",
        "\n",
        "BA1=BankAccount(1000) # init for BA1\n",
        "BA2=BankAccount(1000) # init for BA2\n",
        "BA1.balance=9999\n",
        "print(BA1)"
      ],
      "metadata": {
        "colab": {
          "base_uri": "https://localhost:8080/"
        },
        "id": "jgzZX_dTGyWa",
        "outputId": "ee8a3144-c9b0-4ca2-898e-9b174f00bda3"
      },
      "execution_count": 28,
      "outputs": [
        {
          "output_type": "stream",
          "name": "stdout",
          "text": [
            "AccID: 100\tBalance: 9999\n"
          ]
        }
      ]
    },
    {
      "cell_type": "code",
      "source": [
        "class BankAccount:\n",
        "    acc_id = 100\n",
        "    def __init__(self ,balance):\n",
        "        self.__balance = balance\n",
        "        self.acc_id=BankAccount.acc_id\n",
        "        BankAccount.acc_id+=1\n",
        "\n",
        "    def __str__(self):\n",
        "        return f\"AccID: {self.acc_id}\\tBalance: {self.__balance}\"\n",
        "\n",
        "    def set_bal(self, new_bal):\n",
        "        self.__balance = new_bal\n",
        "\n",
        "BA1=BankAccount(1000)\n",
        "BA2=BankAccount(1000)\n",
        "BA1.__balance=9999 # creating a new varible\n",
        "print(BA1)\n",
        "print(BA2)"
      ],
      "metadata": {
        "colab": {
          "base_uri": "https://localhost:8080/"
        },
        "id": "mCCx_Bzx-7kZ",
        "outputId": "97578634-628c-4eaf-a019-d5167b8b313d"
      },
      "execution_count": 33,
      "outputs": [
        {
          "output_type": "stream",
          "name": "stdout",
          "text": [
            "AccID: 100\tBalance: 1000\n",
            "AccID: 101\tBalance: 1000\n"
          ]
        }
      ]
    },
    {
      "cell_type": "markdown",
      "source": [
        "h"
      ],
      "metadata": {
        "id": "jLInJDkR73ZB"
      }
    },
    {
      "cell_type": "code",
      "source": [
        "BA1.set_bal(9999)\n",
        "print(BA1)"
      ],
      "metadata": {
        "colab": {
          "base_uri": "https://localhost:8080/"
        },
        "id": "PGnjNZ6oINlm",
        "outputId": "3715befe-8a0c-4491-e51b-8bffb94e71bd"
      },
      "execution_count": 31,
      "outputs": [
        {
          "output_type": "stream",
          "name": "stdout",
          "text": [
            "AccID: 100\tBalance: 9999\n"
          ]
        }
      ]
    },
    {
      "cell_type": "code",
      "source": [
        "class BankAccount:\n",
        "    acc_id = 100\n",
        "    def __init__(self ,balance):\n",
        "        self.__balance = balance\n",
        "        self.acc_id=BankAccount.acc_id\n",
        "        BankAccount.acc_id+=1\n",
        "\n",
        "    def __str__(self):\n",
        "        return f\"AccID: {self.acc_id}\\tBalance: {self.__balance}\"\n",
        "\n",
        "    def set_bal(self, new_bal):\n",
        "        self.__balance = new_bal\n",
        "\n",
        "BA1=BankAccount(1000)\n",
        "print(BA1.__balance)"
      ],
      "metadata": {
        "colab": {
          "base_uri": "https://localhost:8080/",
          "height": 246
        },
        "id": "tVtr4fc0IRuL",
        "outputId": "eabe40a2-8c01-49f3-e4cc-31292579531c"
      },
      "execution_count": 35,
      "outputs": [
        {
          "output_type": "error",
          "ename": "AttributeError",
          "evalue": "ignored",
          "traceback": [
            "\u001b[0;31m---------------------------------------------------------------------------\u001b[0m",
            "\u001b[0;31mAttributeError\u001b[0m                            Traceback (most recent call last)",
            "\u001b[0;32m<ipython-input-35-b66ff06cc974>\u001b[0m in \u001b[0;36m<cell line: 15>\u001b[0;34m()\u001b[0m\n\u001b[1;32m     13\u001b[0m \u001b[0;34m\u001b[0m\u001b[0m\n\u001b[1;32m     14\u001b[0m \u001b[0mBA1\u001b[0m\u001b[0;34m=\u001b[0m\u001b[0mBankAccount\u001b[0m\u001b[0;34m(\u001b[0m\u001b[0;36m1000\u001b[0m\u001b[0;34m)\u001b[0m\u001b[0;34m\u001b[0m\u001b[0;34m\u001b[0m\u001b[0m\n\u001b[0;32m---> 15\u001b[0;31m \u001b[0mprint\u001b[0m\u001b[0;34m(\u001b[0m\u001b[0mBA1\u001b[0m\u001b[0;34m.\u001b[0m\u001b[0m__balance\u001b[0m\u001b[0;34m)\u001b[0m\u001b[0;34m\u001b[0m\u001b[0;34m\u001b[0m\u001b[0m\n\u001b[0m",
            "\u001b[0;31mAttributeError\u001b[0m: 'BankAccount' object has no attribute '__balance'"
          ]
        }
      ]
    },
    {
      "cell_type": "code",
      "source": [
        "class BankAccount:\n",
        "    acc_id = 100\n",
        "    def __init__(self ,balance):\n",
        "        self.__balance = balance\n",
        "        self.acc_id=BankAccount.acc_id\n",
        "        BankAccount.acc_id+=1\n",
        "\n",
        "    def __str__(self):\n",
        "        return f\"AccID: {self.acc_id}\\tBalance: {self.__balance}\"\n",
        "\n",
        "    def set_bal(self, new_bal):\n",
        "        self.__balance = new_bal\n",
        "\n",
        "BA1=BankAccount(1000)\n",
        "BA2=BankAccount(1000)\n",
        "BA1.__balance=9999 # creating a new varible\n",
        "print(BA1)\n",
        "print(BA1.__balance)"
      ],
      "metadata": {
        "colab": {
          "base_uri": "https://localhost:8080/"
        },
        "id": "NJt4R05DIg_F",
        "outputId": "e0b45261-c64b-4c2d-82c1-ef73ea54e1b0"
      },
      "execution_count": 34,
      "outputs": [
        {
          "output_type": "stream",
          "name": "stdout",
          "text": [
            "AccID: 100\tBalance: 1000\n",
            "9999\n"
          ]
        }
      ]
    },
    {
      "cell_type": "code",
      "source": [
        "class BankAccount:\n",
        "    acc_id = 100\n",
        "    def __init__(self ,balance):\n",
        "        self.__balance = balance\n",
        "        self.acc_id=BankAccount.acc_id\n",
        "        BankAccount.acc_id+=1\n",
        "\n",
        "    def __str__(self):\n",
        "        return f\"AccID: {self.acc_id}\\tBalance: {self.__balance}\"\n",
        "\n",
        "    def set_bal(self, new_bal):\n",
        "        self.__balance = new_bal\n",
        "\n",
        "BA1=BankAccount(1000)\n",
        "print(BA1.__dict__)"
      ],
      "metadata": {
        "colab": {
          "base_uri": "https://localhost:8080/"
        },
        "id": "L4Oq-FsjIyoF",
        "outputId": "9c131fe1-f6f0-43dc-bed2-fb45193977b6"
      },
      "execution_count": 36,
      "outputs": [
        {
          "output_type": "stream",
          "name": "stdout",
          "text": [
            "{'_BankAccount__balance': 1000, 'acc_id': 100}\n"
          ]
        }
      ]
    },
    {
      "cell_type": "markdown",
      "source": [
        "P"
      ],
      "metadata": {
        "id": "cT7vGx0fJUkW"
      }
    },
    {
      "cell_type": "code",
      "source": [
        "BA1.__balance=9999\n",
        "print(BA1.__dict__)"
      ],
      "metadata": {
        "colab": {
          "base_uri": "https://localhost:8080/"
        },
        "id": "sRqOz_IIJPgP",
        "outputId": "ac5690eb-af7b-44ab-8fca-17b16cd4f287"
      },
      "execution_count": 37,
      "outputs": [
        {
          "output_type": "stream",
          "name": "stdout",
          "text": [
            "{'_BankAccount__balance': 1000, 'acc_id': 100, '__balance': 9999}\n"
          ]
        }
      ]
    },
    {
      "cell_type": "markdown",
      "source": [
        "### THERE IS NO SUCH THING AS TRUE PRIVATE IN PYTHON"
      ],
      "metadata": {
        "id": "t4gDFQOdJ8mp"
      }
    },
    {
      "cell_type": "code",
      "source": [
        "BA1=BankAccount(1000)\n",
        "print(BA1)\n",
        "print(BA1._BankAccount__balance)\n",
        "BA1._BankAccount__balance = 200\n",
        "print(BA1)"
      ],
      "metadata": {
        "colab": {
          "base_uri": "https://localhost:8080/"
        },
        "id": "7mTQswypJzul",
        "outputId": "f6596019-530e-4dbf-8a59-7b2a01ecc989"
      },
      "execution_count": 41,
      "outputs": [
        {
          "output_type": "stream",
          "name": "stdout",
          "text": [
            "AccID: 104\tBalance: 1000\n",
            "1000\n",
            "AccID: 104\tBalance: 200\n"
          ]
        }
      ]
    },
    {
      "cell_type": "markdown",
      "source": [
        "### NAME MANGLING: Adds _ClassName as prefix on private variables"
      ],
      "metadata": {
        "id": "PWSjBnQBKc-b"
      }
    },
    {
      "cell_type": "markdown",
      "source": [
        "#### Homework:  Protected and how is it different from public"
      ],
      "metadata": {
        "id": "NAPezdbeKoTV"
      }
    },
    {
      "cell_type": "markdown",
      "source": [
        "# Inheritance: All methods and attributes of parent Class can be accessed by Child Class"
      ],
      "metadata": {
        "id": "KHNpZwivMIKC"
      }
    },
    {
      "cell_type": "code",
      "source": [
        "class Parent:\n",
        "    par_var = 100\n",
        "    def __init__(self):\n",
        "        print(\"Initializer of Parent Class\") # line1\n",
        "class Child(Parent):\n",
        "    child_var = 200\n",
        "    def __init__(self):\n",
        "        print(\"Initializer of Child Class\") # line2\n",
        "\n",
        "p1 = Parent()"
      ],
      "metadata": {
        "colab": {
          "base_uri": "https://localhost:8080/"
        },
        "id": "RAXjVeSJKFLA",
        "outputId": "d9ddd325-bff0-4c90-ca8a-eb3251c5af46"
      },
      "execution_count": 48,
      "outputs": [
        {
          "output_type": "stream",
          "name": "stdout",
          "text": [
            "Initializer of Parent Class\n"
          ]
        }
      ]
    },
    {
      "cell_type": "code",
      "source": [
        "c1= Child()"
      ],
      "metadata": {
        "colab": {
          "base_uri": "https://localhost:8080/"
        },
        "id": "4hFRMa2ZMnLz",
        "outputId": "fb0b0d44-a824-40f4-d846-00240d4b4b07"
      },
      "execution_count": 49,
      "outputs": [
        {
          "output_type": "stream",
          "name": "stdout",
          "text": [
            "Initializer of Child Class\n"
          ]
        }
      ]
    },
    {
      "cell_type": "code",
      "source": [
        "c1.child_var"
      ],
      "metadata": {
        "colab": {
          "base_uri": "https://localhost:8080/"
        },
        "id": "ZmkyKBAsM0p2",
        "outputId": "acc65d41-45b2-4109-c792-ee8c1f7240da"
      },
      "execution_count": 50,
      "outputs": [
        {
          "output_type": "execute_result",
          "data": {
            "text/plain": [
              "200"
            ]
          },
          "metadata": {},
          "execution_count": 50
        }
      ]
    },
    {
      "cell_type": "code",
      "source": [
        "c1.par_var"
      ],
      "metadata": {
        "colab": {
          "base_uri": "https://localhost:8080/"
        },
        "id": "ffZJgW7MNKNL",
        "outputId": "6689fc22-1959-4b0b-b321-78a8b2380be2"
      },
      "execution_count": 51,
      "outputs": [
        {
          "output_type": "execute_result",
          "data": {
            "text/plain": [
              "100"
            ]
          },
          "metadata": {},
          "execution_count": 51
        }
      ]
    },
    {
      "cell_type": "code",
      "source": [
        "class Parent:\n",
        "    par_var = 100\n",
        "    def __init__(self):\n",
        "        print(\"Initializer of Parent Class\") # line1\n",
        "class Child(Parent):\n",
        "    child_var = 200\n",
        "    def __init__(self):\n",
        "        super().__init__() # super calls method from parent class\n",
        "        print(\"Initializer of Child Class\") # line2\n",
        "\n",
        "c1  = Child()"
      ],
      "metadata": {
        "colab": {
          "base_uri": "https://localhost:8080/"
        },
        "id": "lORAkUyxNPNg",
        "outputId": "c36373d6-86b9-4f87-b58c-7c708485d65e"
      },
      "execution_count": 54,
      "outputs": [
        {
          "output_type": "stream",
          "name": "stdout",
          "text": [
            "Initializer of Parent Class\n",
            "Initializer of Child Class\n"
          ]
        }
      ]
    },
    {
      "cell_type": "code",
      "source": [
        "class Parent(Child):\n",
        "    par_var = 100\n",
        "    def __init__(self):\n",
        "        print(\"Initializer of Parent Class\") # line1\n",
        "class Child(Parent):\n",
        "    child_var = 200\n",
        "    def __init__(self):\n",
        "        Parent.__init__(self) # super calls method from parent class\n",
        "        print(\"Initializer of Child Class\") # line2\n",
        "\n",
        "c1 = Child()\n",
        "p1 = Parent()"
      ],
      "metadata": {
        "colab": {
          "base_uri": "https://localhost:8080/"
        },
        "id": "EaBngzHUNfgA",
        "outputId": "29bee882-3c72-49b7-ecad-94810b3ac714"
      },
      "execution_count": 59,
      "outputs": [
        {
          "output_type": "stream",
          "name": "stdout",
          "text": [
            "Initializer of Parent Class\n",
            "Initializer of Child Class\n",
            "Initializer of Parent Class\n"
          ]
        }
      ]
    },
    {
      "cell_type": "code",
      "source": [
        "class Parent():\n",
        "    __pri_par_var = 100\n",
        "    pub_par_var=999\n",
        "    def __init__(self):\n",
        "        print(\"Initializer of Parent Class\") # line1\n",
        "class Child(Parent):\n",
        "    child_var = 200\n",
        "    __private= 300\n",
        "    def __init__(self):\n",
        "        Parent.__init__(self) # super calls method from parent class\n",
        "        print(\"Initializer of Child Class\") # line2\n",
        "\n",
        "    def print_par_var(self):\n",
        "        return self.__pri_par_var\n",
        "\n",
        "    def print_self_var(self):\n",
        "        return self.__private\n",
        "\n",
        "c1 = Child()\n",
        "c1.pub_par_var"
      ],
      "metadata": {
        "colab": {
          "base_uri": "https://localhost:8080/"
        },
        "id": "wReMuM9RN67C",
        "outputId": "be5e8bcc-d93a-4d5e-c539-90d8c67792bc"
      },
      "execution_count": 67,
      "outputs": [
        {
          "output_type": "stream",
          "name": "stdout",
          "text": [
            "Initializer of Parent Class\n",
            "Initializer of Child Class\n"
          ]
        },
        {
          "output_type": "execute_result",
          "data": {
            "text/plain": [
              "999"
            ]
          },
          "metadata": {},
          "execution_count": 67
        }
      ]
    },
    {
      "cell_type": "code",
      "source": [
        "c1.__pri_par_var"
      ],
      "metadata": {
        "colab": {
          "base_uri": "https://localhost:8080/",
          "height": 202
        },
        "id": "-3b4EZ1EOT2z",
        "outputId": "8fd4d41c-49a1-42a5-9d32-ee4ac21c40c2"
      },
      "execution_count": 66,
      "outputs": [
        {
          "output_type": "error",
          "ename": "AttributeError",
          "evalue": "ignored",
          "traceback": [
            "\u001b[0;31m---------------------------------------------------------------------------\u001b[0m",
            "\u001b[0;31mAttributeError\u001b[0m                            Traceback (most recent call last)",
            "\u001b[0;32m<ipython-input-66-66c3ff01fb22>\u001b[0m in \u001b[0;36m<cell line: 1>\u001b[0;34m()\u001b[0m\n\u001b[0;32m----> 1\u001b[0;31m \u001b[0mc1\u001b[0m\u001b[0;34m.\u001b[0m\u001b[0m__pri_par_var\u001b[0m\u001b[0;34m\u001b[0m\u001b[0;34m\u001b[0m\u001b[0m\n\u001b[0m",
            "\u001b[0;31mAttributeError\u001b[0m: 'Child' object has no attribute '__pri_par_var'"
          ]
        }
      ]
    },
    {
      "cell_type": "code",
      "source": [
        "c1.__private"
      ],
      "metadata": {
        "colab": {
          "base_uri": "https://localhost:8080/",
          "height": 202
        },
        "id": "rumgEij3PAjS",
        "outputId": "de1b3fe7-bb1f-41a2-ac6b-9864d0cd3e3e"
      },
      "execution_count": 68,
      "outputs": [
        {
          "output_type": "error",
          "ename": "AttributeError",
          "evalue": "ignored",
          "traceback": [
            "\u001b[0;31m---------------------------------------------------------------------------\u001b[0m",
            "\u001b[0;31mAttributeError\u001b[0m                            Traceback (most recent call last)",
            "\u001b[0;32m<ipython-input-68-c464f6a4a5da>\u001b[0m in \u001b[0;36m<cell line: 1>\u001b[0;34m()\u001b[0m\n\u001b[0;32m----> 1\u001b[0;31m \u001b[0mc1\u001b[0m\u001b[0;34m.\u001b[0m\u001b[0m__private\u001b[0m\u001b[0;34m\u001b[0m\u001b[0;34m\u001b[0m\u001b[0m\n\u001b[0m",
            "\u001b[0;31mAttributeError\u001b[0m: 'Child' object has no attribute '__private'"
          ]
        }
      ]
    },
    {
      "cell_type": "code",
      "source": [
        "c1.print_self_var()"
      ],
      "metadata": {
        "colab": {
          "base_uri": "https://localhost:8080/"
        },
        "id": "adWCkyW8Pb51",
        "outputId": "466b6760-35ab-40b9-8dc7-8d464f098db4"
      },
      "execution_count": 69,
      "outputs": [
        {
          "output_type": "execute_result",
          "data": {
            "text/plain": [
              "300"
            ]
          },
          "metadata": {},
          "execution_count": 69
        }
      ]
    },
    {
      "cell_type": "code",
      "source": [
        "c1.print_par_var()"
      ],
      "metadata": {
        "colab": {
          "base_uri": "https://localhost:8080/",
          "height": 356
        },
        "id": "JsZWfQcuPfdm",
        "outputId": "e2da4056-1ec0-4d72-e4de-89f49f1c9381"
      },
      "execution_count": 70,
      "outputs": [
        {
          "output_type": "error",
          "ename": "AttributeError",
          "evalue": "ignored",
          "traceback": [
            "\u001b[0;31m---------------------------------------------------------------------------\u001b[0m",
            "\u001b[0;31mAttributeError\u001b[0m                            Traceback (most recent call last)",
            "\u001b[0;32m<ipython-input-70-29c064cd0869>\u001b[0m in \u001b[0;36m<cell line: 1>\u001b[0;34m()\u001b[0m\n\u001b[0;32m----> 1\u001b[0;31m \u001b[0mc1\u001b[0m\u001b[0;34m.\u001b[0m\u001b[0mprint_par_var\u001b[0m\u001b[0;34m(\u001b[0m\u001b[0;34m)\u001b[0m\u001b[0;34m\u001b[0m\u001b[0;34m\u001b[0m\u001b[0m\n\u001b[0m",
            "\u001b[0;32m<ipython-input-67-84f1f853e477>\u001b[0m in \u001b[0;36mprint_par_var\u001b[0;34m(self)\u001b[0m\n\u001b[1;32m     12\u001b[0m \u001b[0;34m\u001b[0m\u001b[0m\n\u001b[1;32m     13\u001b[0m     \u001b[0;32mdef\u001b[0m \u001b[0mprint_par_var\u001b[0m\u001b[0;34m(\u001b[0m\u001b[0mself\u001b[0m\u001b[0;34m)\u001b[0m\u001b[0;34m:\u001b[0m\u001b[0;34m\u001b[0m\u001b[0;34m\u001b[0m\u001b[0m\n\u001b[0;32m---> 14\u001b[0;31m         \u001b[0;32mreturn\u001b[0m \u001b[0mself\u001b[0m\u001b[0;34m.\u001b[0m\u001b[0m__pri_par_var\u001b[0m\u001b[0;34m\u001b[0m\u001b[0;34m\u001b[0m\u001b[0m\n\u001b[0m\u001b[1;32m     15\u001b[0m \u001b[0;34m\u001b[0m\u001b[0m\n\u001b[1;32m     16\u001b[0m     \u001b[0;32mdef\u001b[0m \u001b[0mprint_self_var\u001b[0m\u001b[0;34m(\u001b[0m\u001b[0mself\u001b[0m\u001b[0;34m)\u001b[0m\u001b[0;34m:\u001b[0m\u001b[0;34m\u001b[0m\u001b[0;34m\u001b[0m\u001b[0m\n",
            "\u001b[0;31mAttributeError\u001b[0m: 'Child' object has no attribute '_Child__pri_par_var'"
          ]
        }
      ]
    },
    {
      "cell_type": "code",
      "source": [
        "c1._Parent__pri_par_var"
      ],
      "metadata": {
        "colab": {
          "base_uri": "https://localhost:8080/"
        },
        "id": "6MKjeJeAPjnQ",
        "outputId": "c1b9c6c1-3c56-485c-c773-ab98bba80327"
      },
      "execution_count": 73,
      "outputs": [
        {
          "output_type": "execute_result",
          "data": {
            "text/plain": [
              "100"
            ]
          },
          "metadata": {},
          "execution_count": 73
        }
      ]
    },
    {
      "cell_type": "code",
      "source": [
        "class Parent():\n",
        "    var=999\n",
        "    def __init__(self):\n",
        "        print(\"Initializer of Parent Class\") # line1\n",
        "class Child():\n",
        "    child_var = 200\n",
        "\n",
        "c1 = Child()\n",
        "c1.var"
      ],
      "metadata": {
        "colab": {
          "base_uri": "https://localhost:8080/",
          "height": 246
        },
        "id": "R1UvtUgBP0BF",
        "outputId": "b26f4c09-08f9-4a46-ce00-214412662f8c"
      },
      "execution_count": 74,
      "outputs": [
        {
          "output_type": "error",
          "ename": "AttributeError",
          "evalue": "ignored",
          "traceback": [
            "\u001b[0;31m---------------------------------------------------------------------------\u001b[0m",
            "\u001b[0;31mAttributeError\u001b[0m                            Traceback (most recent call last)",
            "\u001b[0;32m<ipython-input-74-c79cf4bee115>\u001b[0m in \u001b[0;36m<cell line: 9>\u001b[0;34m()\u001b[0m\n\u001b[1;32m      7\u001b[0m \u001b[0;34m\u001b[0m\u001b[0m\n\u001b[1;32m      8\u001b[0m \u001b[0mc1\u001b[0m \u001b[0;34m=\u001b[0m \u001b[0mChild\u001b[0m\u001b[0;34m(\u001b[0m\u001b[0;34m)\u001b[0m\u001b[0;34m\u001b[0m\u001b[0;34m\u001b[0m\u001b[0m\n\u001b[0;32m----> 9\u001b[0;31m \u001b[0mc1\u001b[0m\u001b[0;34m.\u001b[0m\u001b[0mvar\u001b[0m\u001b[0;34m\u001b[0m\u001b[0;34m\u001b[0m\u001b[0m\n\u001b[0m",
            "\u001b[0;31mAttributeError\u001b[0m: 'Child' object has no attribute 'var'"
          ]
        }
      ]
    },
    {
      "cell_type": "code",
      "source": [
        "class Vehicle:\n",
        "    engine_type = \"BS4\"\n",
        "    def __init__(self,manufacturer, num_wheels):\n",
        "        self.manufacturer=manufacturer\n",
        "        self.num_wheels=num_wheels\n",
        "class Car(Vehicle):\n",
        "    v8 = True\n",
        "    def __init__(self,manufacturer, num_wheels, seat_belt):\n",
        "        super().__init__(manufacturer, num_wheels)\n",
        "        self.seat_belt=seat_belt\n",
        "class Bike(Vehicle):\n",
        "    def __init__(self,manufacturer, num_wheels, helmet=True):\n",
        "        super().__init__(manufacturer, num_wheels)\n",
        "        self.helmet=helmet\n",
        "\n",
        "b1 = Bike(\"Hero\",2, False)\n",
        "print(b1.__dict__)"
      ],
      "metadata": {
        "colab": {
          "base_uri": "https://localhost:8080/"
        },
        "id": "iLzRRZUVQKFp",
        "outputId": "2507fbbe-6dcb-414c-9816-fed9349c3804"
      },
      "execution_count": 82,
      "outputs": [
        {
          "output_type": "stream",
          "name": "stdout",
          "text": [
            "{'manufacturer': 'Hero', 'num_wheels': 2, 'helmet': False}\n"
          ]
        }
      ]
    },
    {
      "cell_type": "code",
      "source": [
        "c1 = Car(\"Suzuki\",4, \"Yes\")\n",
        "print(c1.__dict__)\n"
      ],
      "metadata": {
        "colab": {
          "base_uri": "https://localhost:8080/"
        },
        "id": "R8kDIH0sT3el",
        "outputId": "a33382c8-99a6-47f8-b7bf-acd309dff1b0"
      },
      "execution_count": 83,
      "outputs": [
        {
          "output_type": "stream",
          "name": "stdout",
          "text": [
            "{'manufacturer': 'Suzuki', 'num_wheels': 4, 'seat_belt': 'Yes'}\n"
          ]
        }
      ]
    },
    {
      "cell_type": "code",
      "source": [
        "dir(c1)"
      ],
      "metadata": {
        "colab": {
          "base_uri": "https://localhost:8080/"
        },
        "id": "nOVdn9l2Uky1",
        "outputId": "7a710770-f535-435e-9fb5-1c1d96338c29"
      },
      "execution_count": 84,
      "outputs": [
        {
          "output_type": "execute_result",
          "data": {
            "text/plain": [
              "['__class__',\n",
              " '__delattr__',\n",
              " '__dict__',\n",
              " '__dir__',\n",
              " '__doc__',\n",
              " '__eq__',\n",
              " '__format__',\n",
              " '__ge__',\n",
              " '__getattribute__',\n",
              " '__gt__',\n",
              " '__hash__',\n",
              " '__init__',\n",
              " '__init_subclass__',\n",
              " '__le__',\n",
              " '__lt__',\n",
              " '__module__',\n",
              " '__ne__',\n",
              " '__new__',\n",
              " '__reduce__',\n",
              " '__reduce_ex__',\n",
              " '__repr__',\n",
              " '__setattr__',\n",
              " '__sizeof__',\n",
              " '__str__',\n",
              " '__subclasshook__',\n",
              " '__weakref__',\n",
              " 'engine_type',\n",
              " 'manufacturer',\n",
              " 'num_wheels',\n",
              " 'seat_belt',\n",
              " 'v8']"
            ]
          },
          "metadata": {},
          "execution_count": 84
        }
      ]
    },
    {
      "cell_type": "code",
      "source": [
        "c1.engine_type"
      ],
      "metadata": {
        "colab": {
          "base_uri": "https://localhost:8080/",
          "height": 42
        },
        "id": "W9GHmDIHUB8L",
        "outputId": "b85bbc53-d3c0-4bb8-f136-77622017d612"
      },
      "execution_count": 81,
      "outputs": [
        {
          "output_type": "execute_result",
          "data": {
            "text/plain": [
              "'BS4'"
            ],
            "application/vnd.google.colaboratory.intrinsic+json": {
              "type": "string"
            }
          },
          "metadata": {},
          "execution_count": 81
        }
      ]
    },
    {
      "cell_type": "markdown",
      "source": [
        "\n",
        "<img src=\"\n",
        "https://i.ibb.co/qRZ061d/Screenshot-2022-02-23-at-8-28-26-PM.png\n",
        "\" width=300 height=350>"
      ],
      "metadata": {
        "id": "m3yL6qWlVc_y"
      }
    },
    {
      "cell_type": "code",
      "source": [
        "class A:\n",
        "    counter= 0\n",
        "    def __init__(self):\n",
        "      A.counter+=1\n",
        "\n",
        "A()\n",
        "\n",
        "obj1 = A()\n",
        "\n",
        "if A():\n",
        "    print(A.counter)"
      ],
      "metadata": {
        "colab": {
          "base_uri": "https://localhost:8080/"
        },
        "id": "OjFX_Zp-WRxB",
        "outputId": "5f1c3c67-866f-4a07-89f5-acb902681511"
      },
      "execution_count": 85,
      "outputs": [
        {
          "output_type": "stream",
          "name": "stdout",
          "text": [
            "3\n"
          ]
        }
      ]
    },
    {
      "cell_type": "code",
      "source": [
        "class A:\n",
        "    counter=0\n",
        "    def __init__(self):\n",
        "      self.counter= self.counter+1 # self.counter = A.counter +1\n",
        "\n",
        "A()\n",
        "\n",
        "obj1 = A()\n",
        "\n",
        "if A():\n",
        "    print(A.counter)"
      ],
      "metadata": {
        "colab": {
          "base_uri": "https://localhost:8080/"
        },
        "id": "w9BnprCNWnEo",
        "outputId": "d70edac9-c1e8-416a-d83d-0b5b50fc0e12"
      },
      "execution_count": 90,
      "outputs": [
        {
          "output_type": "stream",
          "name": "stdout",
          "text": [
            "0\n"
          ]
        }
      ]
    },
    {
      "cell_type": "code",
      "source": [
        "class A:\n",
        "    counter=0\n",
        "    def __init__(self):\n",
        "      self.counter= self.counter+1 # self.counter = A.counter +1\n",
        "\n",
        "A()\n",
        "\n",
        "obj1 = A()\n",
        "\n",
        "if A():\n",
        "    print(A.counter)"
      ],
      "metadata": {
        "id": "sFAgZFP8XHMK"
      },
      "execution_count": null,
      "outputs": []
    },
    {
      "cell_type": "code",
      "source": [
        "class A:\n",
        "    def __init__(self):\n",
        "      print(\"New object Created!\")\n",
        "\n",
        "A() # object1\n",
        "\n",
        "obj1 = A() # object 2\n",
        "\n",
        "if A(): # object3\n",
        "    print(A()) # object4"
      ],
      "metadata": {
        "colab": {
          "base_uri": "https://localhost:8080/"
        },
        "id": "Mua2IeG8XT7m",
        "outputId": "805edbb9-f962-4949-9c50-fd9b0f118efe"
      },
      "execution_count": 91,
      "outputs": [
        {
          "output_type": "stream",
          "name": "stdout",
          "text": [
            "New object Created!\n",
            "New object Created!\n",
            "New object Created!\n",
            "New object Created!\n",
            "<__main__.A object at 0x786831888c10>\n"
          ]
        }
      ]
    },
    {
      "cell_type": "markdown",
      "source": [
        "## Inheritance Type\n",
        "- Multi-level\n",
        "- Multiple"
      ],
      "metadata": {
        "id": "b7QLqYqjULdF"
      }
    },
    {
      "cell_type": "code",
      "source": [
        "class A:\n",
        "    #x = 100\n",
        "    def func(self):\n",
        "        print(\"Inside A\")\n",
        "\n",
        "class B(A):\n",
        "    #x =200\n",
        "    pass\n",
        "\n",
        "\n",
        "class C(B):\n",
        "    #x=300\n",
        "    pass\n",
        "\n",
        "\n",
        "c1 = C()\n",
        "print(c1.x)"
      ],
      "metadata": {
        "colab": {
          "base_uri": "https://localhost:8080/",
          "height": 246
        },
        "id": "sGEPZ3pvUPGY",
        "outputId": "047e24de-711d-4db2-9657-c20b5ddb85c6"
      },
      "execution_count": 108,
      "outputs": [
        {
          "output_type": "error",
          "ename": "AttributeError",
          "evalue": "ignored",
          "traceback": [
            "\u001b[0;31m---------------------------------------------------------------------------\u001b[0m",
            "\u001b[0;31mAttributeError\u001b[0m                            Traceback (most recent call last)",
            "\u001b[0;32m<ipython-input-108-3cfceed116e1>\u001b[0m in \u001b[0;36m<cell line: 17>\u001b[0;34m()\u001b[0m\n\u001b[1;32m     15\u001b[0m \u001b[0;34m\u001b[0m\u001b[0m\n\u001b[1;32m     16\u001b[0m \u001b[0mc1\u001b[0m \u001b[0;34m=\u001b[0m \u001b[0mC\u001b[0m\u001b[0;34m(\u001b[0m\u001b[0;34m)\u001b[0m\u001b[0;34m\u001b[0m\u001b[0;34m\u001b[0m\u001b[0m\n\u001b[0;32m---> 17\u001b[0;31m \u001b[0mprint\u001b[0m\u001b[0;34m(\u001b[0m\u001b[0mc1\u001b[0m\u001b[0;34m.\u001b[0m\u001b[0mx\u001b[0m\u001b[0;34m)\u001b[0m\u001b[0;34m\u001b[0m\u001b[0;34m\u001b[0m\u001b[0m\n\u001b[0m",
            "\u001b[0;31mAttributeError\u001b[0m: 'C' object has no attribute 'x'"
          ]
        }
      ]
    },
    {
      "cell_type": "code",
      "source": [
        "print(c1.func())"
      ],
      "metadata": {
        "colab": {
          "base_uri": "https://localhost:8080/"
        },
        "id": "74X7mOBkX0FQ",
        "outputId": "574b8cd5-20c0-4813-935f-a3b28a95f8f9"
      },
      "execution_count": 107,
      "outputs": [
        {
          "output_type": "stream",
          "name": "stdout",
          "text": [
            "Inside A\n",
            "None\n"
          ]
        }
      ]
    },
    {
      "cell_type": "code",
      "source": [
        "class A:\n",
        "    #x = 100\n",
        "    def func(self):\n",
        "        print(\"Inside A\")\n",
        "\n",
        "class B:\n",
        "    x =200\n",
        "    pass\n",
        "\n",
        "\n",
        "class C(A,B):\n",
        "    #x=300\n",
        "    pass\n",
        "\n",
        "\n",
        "c1 = C()\n",
        "print(c1.x)"
      ],
      "metadata": {
        "colab": {
          "base_uri": "https://localhost:8080/"
        },
        "id": "dy1TmG-nYbrD",
        "outputId": "8ccf4ecc-0d9f-4b2e-e4c6-3b94230eb6ab"
      },
      "execution_count": 112,
      "outputs": [
        {
          "output_type": "stream",
          "name": "stdout",
          "text": [
            "200\n"
          ]
        }
      ]
    },
    {
      "cell_type": "code",
      "source": [
        "class A:\n",
        "    #x = 100\n",
        "    def func(self):\n",
        "        print(\"Inside A\")\n",
        "\n",
        "class B(A):\n",
        "    x =200\n",
        "    pass\n",
        "\n",
        "class C(A):\n",
        "    pass\n",
        "\n",
        "\n",
        "class D(B,C):\n",
        "    #x=300\n",
        "    pass\n",
        "\n",
        "print(D.__mro__)"
      ],
      "metadata": {
        "colab": {
          "base_uri": "https://localhost:8080/"
        },
        "id": "ibiXq0kWZNdu",
        "outputId": "d5e09532-aee0-4039-e74a-861752a3b2f6"
      },
      "execution_count": 113,
      "outputs": [
        {
          "output_type": "stream",
          "name": "stdout",
          "text": [
            "(<class '__main__.D'>, <class '__main__.B'>, <class '__main__.C'>, <class '__main__.A'>, <class 'object'>)\n"
          ]
        }
      ]
    },
    {
      "cell_type": "code",
      "source": [
        "class A:\n",
        "    x = 10\n",
        "\n",
        "class B(A):\n",
        "    pass\n",
        "\n",
        "class C(B):\n",
        "    pass\n",
        "\n",
        "class D(A):\n",
        "    x = 5\n",
        "\n",
        "class E(C, D):\n",
        "    pass\n",
        "\n",
        "# E -> C -> B -> D -> A\n",
        "print(E.__mro__)"
      ],
      "metadata": {
        "colab": {
          "base_uri": "https://localhost:8080/"
        },
        "id": "SUR0Wrh0amIx",
        "outputId": "1474009f-7eb7-40dc-8c01-a4dd1d407716"
      },
      "execution_count": 114,
      "outputs": [
        {
          "output_type": "stream",
          "name": "stdout",
          "text": [
            "(<class '__main__.E'>, <class '__main__.C'>, <class '__main__.B'>, <class '__main__.D'>, <class '__main__.A'>, <class 'object'>)\n"
          ]
        }
      ]
    },
    {
      "cell_type": "code",
      "source": [],
      "metadata": {
        "id": "s30WnF9ocWbe"
      },
      "execution_count": null,
      "outputs": []
    }
  ]
}