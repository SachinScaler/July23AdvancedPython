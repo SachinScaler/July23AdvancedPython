{
  "nbformat": 4,
  "nbformat_minor": 0,
  "metadata": {
    "colab": {
      "provenance": [],
      "authorship_tag": "ABX9TyNkEadROqP+yLPqOVALvTiV",
      "include_colab_link": true
    },
    "kernelspec": {
      "name": "python3",
      "display_name": "Python 3"
    },
    "language_info": {
      "name": "python"
    }
  },
  "cells": [
    {
      "cell_type": "markdown",
      "metadata": {
        "id": "view-in-github",
        "colab_type": "text"
      },
      "source": [
        "<a href=\"https://colab.research.google.com/github/SachinScaler/July23AdvancedPython/blob/main/Problem_Solving_2.ipynb\" target=\"_parent\"><img src=\"https://colab.research.google.com/assets/colab-badge.svg\" alt=\"Open In Colab\"/></a>"
      ]
    },
    {
      "cell_type": "code",
      "execution_count": null,
      "metadata": {
        "id": "gcsxkLA0EYs_"
      },
      "outputs": [],
      "source": []
    },
    {
      "cell_type": "markdown",
      "source": [
        "### Create a calculator backend api using Flask/Fastapi"
      ],
      "metadata": {
        "id": "nvIvAjUFGhgu"
      }
    },
    {
      "cell_type": "code",
      "source": [],
      "metadata": {
        "id": "mpGRXrFkFRXO"
      },
      "execution_count": null,
      "outputs": []
    },
    {
      "cell_type": "markdown",
      "source": [
        "Decorators:"
      ],
      "metadata": {
        "id": "Qg9cDssJG4mC"
      }
    },
    {
      "cell_type": "code",
      "source": [
        "def decor(func):\n",
        "    def inner():\n",
        "        print(\"-\"*50)\n",
        "        func()\n",
        "        print(\"-\"*50)\n",
        "    return inner\n",
        "\n",
        "@decor\n",
        "def print_hi():\n",
        "    print(\"Hi\")\n",
        "print_hi()"
      ],
      "metadata": {
        "colab": {
          "base_uri": "https://localhost:8080/"
        },
        "id": "ULhUorwdG5iV",
        "outputId": "22a5e688-1847-4999-8441-0f6757f91895"
      },
      "execution_count": null,
      "outputs": [
        {
          "output_type": "stream",
          "name": "stdout",
          "text": [
            "--------------------------------------------------\n",
            "Hi\n",
            "--------------------------------------------------\n"
          ]
        }
      ]
    },
    {
      "cell_type": "code",
      "source": [
        "print_hi()"
      ],
      "metadata": {
        "colab": {
          "base_uri": "https://localhost:8080/"
        },
        "id": "AcXQTZ6EHKyK",
        "outputId": "4ce98fd7-d921-4a6e-a80d-d88bb9ed3586"
      },
      "execution_count": null,
      "outputs": [
        {
          "output_type": "stream",
          "name": "stdout",
          "text": [
            "--------------------------------------------------\n",
            "Hi\n",
            "--------------------------------------------------\n"
          ]
        }
      ]
    },
    {
      "cell_type": "markdown",
      "source": [
        "## TASK1: Decorate a function which accepts arguments"
      ],
      "metadata": {
        "id": "hz6eUoQhH9NI"
      }
    },
    {
      "cell_type": "code",
      "source": [
        "def decor(func):\n",
        "    def inner(n,user):\n",
        "        print(\"-\"*50)\n",
        "        func(n, user)\n",
        "        print(\"-\"*50)\n",
        "    return inner # user\n",
        "\n",
        "@decor\n",
        "def print_hi(n,user ):\n",
        "    print(\"Hi \"+user*n)\n",
        "print_hi(5,\"Sachin\")"
      ],
      "metadata": {
        "colab": {
          "base_uri": "https://localhost:8080/"
        },
        "id": "U60bStMPHNUG",
        "outputId": "ffbeaf77-417f-4ba6-d7e7-e778aee1a7d4"
      },
      "execution_count": null,
      "outputs": [
        {
          "output_type": "stream",
          "name": "stdout",
          "text": [
            "--------------------------------------------------\n",
            "Hi SachinSachinSachinSachinSachin\n",
            "--------------------------------------------------\n"
          ]
        }
      ]
    },
    {
      "cell_type": "code",
      "source": [
        "def func2(n,user):\n",
        "    print(\"Hi\"+user *n,)\n",
        "\n",
        "f = decor(func2)\n",
        "print(f)"
      ],
      "metadata": {
        "colab": {
          "base_uri": "https://localhost:8080/"
        },
        "id": "fVc8dGPcHiCW",
        "outputId": "45e8dd32-0cd5-4b88-fbf6-3fc8f9cc2bad"
      },
      "execution_count": null,
      "outputs": [
        {
          "output_type": "stream",
          "name": "stdout",
          "text": [
            "<function decor.<locals>.inner at 0x7ff781a9a680>\n"
          ]
        }
      ]
    },
    {
      "cell_type": "code",
      "source": [
        "f(10)"
      ],
      "metadata": {
        "colab": {
          "base_uri": "https://localhost:8080/"
        },
        "id": "2muy3JfEISqZ",
        "outputId": "49cd55f4-1ae8-4929-b3e3-5eb064a822d8"
      },
      "execution_count": null,
      "outputs": [
        {
          "output_type": "stream",
          "name": "stdout",
          "text": [
            "--------------------------------------------------\n",
            "HiHiHiHiHiHiHiHiHiHi\n",
            "--------------------------------------------------\n"
          ]
        }
      ]
    },
    {
      "cell_type": "markdown",
      "source": [
        "### Task2 pass args to decorator itself"
      ],
      "metadata": {
        "id": "4Vf1gT8BJfNo"
      }
    },
    {
      "cell_type": "code",
      "source": [
        "def decorator(sym,num_hyph):\n",
        "    def decor(func):\n",
        "        def inner(user):\n",
        "            print(sym*num_hyph)\n",
        "            func(user)\n",
        "            print(sym*num_hyph)\n",
        "        return inner # user\n",
        "    return decor\n",
        "\n",
        "@decorator(\"*\",100)\n",
        "def print_hi(user):\n",
        "    print(\"Hi \"+user)\n",
        "print_hi(\"Sachin\")"
      ],
      "metadata": {
        "colab": {
          "base_uri": "https://localhost:8080/"
        },
        "id": "BXtFUE4WIldC",
        "outputId": "b8a551a0-4734-4360-9abd-9dd05023bf80"
      },
      "execution_count": null,
      "outputs": [
        {
          "output_type": "stream",
          "name": "stdout",
          "text": [
            "****************************************************************************************************\n",
            "Hi Sachin\n",
            "****************************************************************************************************\n"
          ]
        }
      ]
    },
    {
      "cell_type": "code",
      "source": [
        "@decorator(\"#\",50)\n",
        "@decorator(\"*\",100)\n",
        "def print_hi(user):\n",
        "    print(\"Hi \"+user)\n",
        "print_hi(\"Sachin\")"
      ],
      "metadata": {
        "colab": {
          "base_uri": "https://localhost:8080/"
        },
        "id": "xY8UoVwDJy0m",
        "outputId": "e7a74ff2-f5fa-450d-e1e0-55c7b1e19b0a"
      },
      "execution_count": null,
      "outputs": [
        {
          "output_type": "stream",
          "name": "stdout",
          "text": [
            "##################################################\n",
            "****************************************************************************************************\n",
            "Hi Sachin\n",
            "****************************************************************************************************\n",
            "##################################################\n"
          ]
        }
      ]
    },
    {
      "cell_type": "code",
      "source": [
        "def inner(*args):\n",
        "    rev_args = args[::-1]\n",
        "    return rev_args\n",
        "inner(1,2,3)"
      ],
      "metadata": {
        "colab": {
          "base_uri": "https://localhost:8080/"
        },
        "id": "lZlEvdFrK4mF",
        "outputId": "67104ccb-c4b5-45d5-9c27-574be3511981"
      },
      "execution_count": null,
      "outputs": [
        {
          "output_type": "execute_result",
          "data": {
            "text/plain": [
              "(3, 2, 1)"
            ]
          },
          "metadata": {},
          "execution_count": 26
        }
      ]
    },
    {
      "cell_type": "code",
      "source": [
        "# super().__init__()\n",
        "# Parent.__init__(self)"
      ],
      "metadata": {
        "id": "zuRK8kkWLxwU"
      },
      "execution_count": null,
      "outputs": []
    },
    {
      "cell_type": "code",
      "source": [
        "class Demo:\n",
        "    def __new__(self):\n",
        "        self.__init__(self)\n",
        "        print(\"Demo's __new__() invoked\")\n",
        "\n",
        "    def __init__(self):\n",
        "        print(\"Demo's __init__() invoked\")\n",
        "\n",
        "class Derived_Demo(Demo):\n",
        "    def __new__(self):\n",
        "        print(\"Derived_Demo's __new__() invoked\")\n",
        "\n",
        "    def __init__(self):\n",
        "        print(\"Derived_Demo's __init__() invoked\")\n",
        "\n",
        "def main():\n",
        "    obj1 = Derived_Demo()\n",
        "    obj2 = Demo()\n",
        "\n",
        "main()"
      ],
      "metadata": {
        "colab": {
          "base_uri": "https://localhost:8080/"
        },
        "id": "xMKnvI08MdiN",
        "outputId": "f81aea01-f0dc-4ad8-eb8d-5426de65fc54"
      },
      "execution_count": null,
      "outputs": [
        {
          "output_type": "stream",
          "name": "stdout",
          "text": [
            "Derived_Demo's __new__() invoked\n",
            "Demo's __init__() invoked\n",
            "Demo's __new__() invoked\n"
          ]
        }
      ]
    },
    {
      "cell_type": "code",
      "source": [
        "class Demo:\n",
        "    def __new__(self,a):\n",
        "        print(\"Demo's __new__() invoked\",a)\n",
        "        # new must return object of class\n",
        "        self.__init__(self,a)\n",
        "\n",
        "    def __init__(self,a):\n",
        "        print(\"Demo's __init__() invoked\",a)\n",
        "\n",
        "d1 = Demo(10)"
      ],
      "metadata": {
        "colab": {
          "base_uri": "https://localhost:8080/"
        },
        "id": "v7tNhMmAMhsw",
        "outputId": "b929651d-733f-45bb-d44a-23c78e282dc0"
      },
      "execution_count": null,
      "outputs": [
        {
          "output_type": "stream",
          "name": "stdout",
          "text": [
            "Demo's __new__() invoked 10\n",
            "Demo's __init__() invoked 10\n"
          ]
        }
      ]
    },
    {
      "cell_type": "code",
      "source": [
        "from functools import reduce\n",
        "array = {1, 2, 3}\n",
        "result = lambda array: reduce(lambda P, x: P + x, array)\n",
        "result(array)"
      ],
      "metadata": {
        "colab": {
          "base_uri": "https://localhost:8080/"
        },
        "id": "maIpcpuJNJJW",
        "outputId": "63e09dad-c0ef-4bb0-9eec-1a1682693cb6"
      },
      "execution_count": null,
      "outputs": [
        {
          "output_type": "execute_result",
          "data": {
            "text/plain": [
              "6"
            ]
          },
          "metadata": {},
          "execution_count": 34
        }
      ]
    },
    {
      "cell_type": "code",
      "source": [
        "from functools import reduce\n",
        "array = {1, 2, 3}\n",
        "result =  reduce(lambda P, x: P + x, array)\n",
        "result"
      ],
      "metadata": {
        "colab": {
          "base_uri": "https://localhost:8080/"
        },
        "id": "_wiJBa1nPVcq",
        "outputId": "ff18a030-c2fc-42e3-f427-1dfeb619f73f"
      },
      "execution_count": null,
      "outputs": [
        {
          "output_type": "execute_result",
          "data": {
            "text/plain": [
              "6"
            ]
          },
          "metadata": {},
          "execution_count": 35
        }
      ]
    },
    {
      "cell_type": "code",
      "source": [
        "from functools import reduce\n",
        "array = {1, 2, 3}\n",
        "result = lambda array: reduce(lambda P, x: P + x, array,10)\n",
        "result(array)"
      ],
      "metadata": {
        "colab": {
          "base_uri": "https://localhost:8080/"
        },
        "id": "KlQ-E0ZAPsIM",
        "outputId": "04648b5a-dce3-495f-bd2b-4c8a15ea6ce6"
      },
      "execution_count": null,
      "outputs": [
        {
          "output_type": "execute_result",
          "data": {
            "text/plain": [
              "16"
            ]
          },
          "metadata": {},
          "execution_count": 37
        }
      ]
    },
    {
      "cell_type": "code",
      "source": [
        "from functools import reduce\n",
        "array = {1, 2, 3}\n",
        "result =  lambda array: reduce(lambda P, x: P + [subset | {x} for subset in P], array , [set()])\n",
        "\n",
        "print(result(array))"
      ],
      "metadata": {
        "colab": {
          "base_uri": "https://localhost:8080/"
        },
        "id": "X61B17EUP0G1",
        "outputId": "1c45a672-9c3e-4b2e-e76b-9ba6127ac3dc"
      },
      "execution_count": null,
      "outputs": [
        {
          "output_type": "stream",
          "name": "stdout",
          "text": [
            "[set(), {1}, {2}, {1, 2}, {3}, {1, 3}, {2, 3}, {1, 2, 3}]\n"
          ]
        }
      ]
    },
    {
      "cell_type": "code",
      "source": [
        "[{1}]+[{1}|{2}]"
      ],
      "metadata": {
        "colab": {
          "base_uri": "https://localhost:8080/"
        },
        "id": "0CKYIdBJQ_SB",
        "outputId": "b9474f04-96a4-4a88-dd03-c5f71e0dee6a"
      },
      "execution_count": null,
      "outputs": [
        {
          "output_type": "execute_result",
          "data": {
            "text/plain": [
              "[{1}, {1, 2}]"
            ]
          },
          "metadata": {},
          "execution_count": 40
        }
      ]
    },
    {
      "cell_type": "markdown",
      "source": [
        "### HW: Rewrite the above function as standard recursive function to create subset of input iterable"
      ],
      "metadata": {
        "id": "8iKYcUn1R5IT"
      }
    },
    {
      "cell_type": "code",
      "source": [
        "ids = [\"SAM@gmail.com\",\"Sam@gmail.com\", \"Ram@gmail.com\", \"sam@gmail.com\", \"samJohnson@iit.com\", \"SAM@harvard.com\"]\n",
        "name = \"sam\"\n",
        "result = list(filter(lambda x : name in x.lower() , ids))\n",
        "print(result)"
      ],
      "metadata": {
        "colab": {
          "base_uri": "https://localhost:8080/"
        },
        "id": "9pXXiZi3REQq",
        "outputId": "7bc2bb39-23e9-46d3-9dc6-fd63b707005e"
      },
      "execution_count": null,
      "outputs": [
        {
          "output_type": "stream",
          "name": "stdout",
          "text": [
            "['SAM@gmail.com', 'Sam@gmail.com', 'sam@gmail.com', 'samJohnson@iit.com', 'SAM@harvard.com']\n"
          ]
        }
      ]
    },
    {
      "cell_type": "code",
      "source": [],
      "metadata": {
        "colab": {
          "base_uri": "https://localhost:8080/",
          "height": 198
        },
        "id": "GzfFWoIkTCOJ",
        "outputId": "a7a5de74-9a3c-4179-ddff-c3136770750a"
      },
      "execution_count": null,
      "outputs": [
        {
          "output_type": "error",
          "ename": "NameError",
          "evalue": "ignored",
          "traceback": [
            "\u001b[0;31m---------------------------------------------------------------------------\u001b[0m",
            "\u001b[0;31mNameError\u001b[0m                                 Traceback (most recent call last)",
            "\u001b[0;32m<ipython-input-44-2cc6f0a6cd80>\u001b[0m in \u001b[0;36m<cell line: 1>\u001b[0;34m()\u001b[0m\n\u001b[0;32m----> 1\u001b[0;31m \u001b[0;34m(\u001b[0m\u001b[0mname\u001b[0m\u001b[0;34m.\u001b[0m\u001b[0mlower\u001b[0m\u001b[0;34m(\u001b[0m\u001b[0;34m)\u001b[0m \u001b[0;32mor\u001b[0m \u001b[0mname\u001b[0m\u001b[0;34m.\u001b[0m\u001b[0mupper\u001b[0m\u001b[0;34m(\u001b[0m\u001b[0;34m)\u001b[0m\u001b[0;34m)\u001b[0m \u001b[0;32min\u001b[0m \u001b[0mx\u001b[0m\u001b[0;34m\u001b[0m\u001b[0;34m\u001b[0m\u001b[0m\n\u001b[0m",
            "\u001b[0;31mNameError\u001b[0m: name 'x' is not defined"
          ]
        }
      ]
    },
    {
      "cell_type": "code",
      "source": [
        "\n",
        "ids = [\"SAM@gmail.com\",\"Sam@gmail.com\", \"Ram@gmail.com\", \"sam@gmail.com\", \"samJohnson@iit.com\", \"SAM@harvard.com\"]\n",
        "name = \"sam\"\n",
        "result = list(filter(lambda x :(name.lower() in x or name.upper() in x) , ids))\n",
        "print(result)"
      ],
      "metadata": {
        "colab": {
          "base_uri": "https://localhost:8080/"
        },
        "id": "lBT_Os0UTRA8",
        "outputId": "695604e3-1746-4aa3-eca4-85478b2b0777"
      },
      "execution_count": null,
      "outputs": [
        {
          "output_type": "stream",
          "name": "stdout",
          "text": [
            "['SAM@gmail.com', 'sam@gmail.com', 'samJohnson@iit.com', 'SAM@harvard.com']\n"
          ]
        }
      ]
    },
    {
      "cell_type": "code",
      "source": [
        "array = [ [1, [ [ 2 ] ], [ [ [ 3 ] ] ], [[ [ 4 ], 5 ] ]]]\n",
        "result = lambda x: sum(map(result, x), [ ] ) if isinstance(x, list) else [x]\n",
        "print(result(array))"
      ],
      "metadata": {
        "colab": {
          "base_uri": "https://localhost:8080/"
        },
        "id": "00IGB14vTaeE",
        "outputId": "427efbbf-b34f-4c4c-a95d-5a5de603029a"
      },
      "execution_count": null,
      "outputs": [
        {
          "output_type": "stream",
          "name": "stdout",
          "text": [
            "[1, 2, 3, 4, 5]\n"
          ]
        }
      ]
    },
    {
      "cell_type": "markdown",
      "source": [
        "Homework: Convert this function to standard recursive function:"
      ],
      "metadata": {
        "id": "EUb4KPt3Vlle"
      }
    },
    {
      "cell_type": "code",
      "source": [],
      "metadata": {
        "id": "b1_eBNLgVlKS"
      },
      "execution_count": null,
      "outputs": []
    },
    {
      "cell_type": "code",
      "source": [
        "sum([],[1]) # [x]"
      ],
      "metadata": {
        "colab": {
          "base_uri": "https://localhost:8080/"
        },
        "id": "lFdZssgCUHtT",
        "outputId": "3a54b58f-b22e-4792-9790-03917263ba5d"
      },
      "execution_count": null,
      "outputs": [
        {
          "output_type": "execute_result",
          "data": {
            "text/plain": [
              "[1]"
            ]
          },
          "metadata": {},
          "execution_count": 52
        }
      ]
    },
    {
      "cell_type": "code",
      "source": [
        "sum([[1]],[2])"
      ],
      "metadata": {
        "colab": {
          "base_uri": "https://localhost:8080/"
        },
        "id": "umJcUTJLUJ6q",
        "outputId": "f2b764c5-8c73-4fde-9b25-1abb97afcce4"
      },
      "execution_count": null,
      "outputs": [
        {
          "output_type": "execute_result",
          "data": {
            "text/plain": [
              "[2, 1]"
            ]
          },
          "metadata": {},
          "execution_count": 64
        }
      ]
    },
    {
      "cell_type": "code",
      "source": [
        "[1]+[2]+[3]"
      ],
      "metadata": {
        "colab": {
          "base_uri": "https://localhost:8080/"
        },
        "id": "prz4JI5RVNLZ",
        "outputId": "79739e67-764f-4854-fdde-6281a290c741"
      },
      "execution_count": null,
      "outputs": [
        {
          "output_type": "execute_result",
          "data": {
            "text/plain": [
              "[1, 2, 3]"
            ]
          },
          "metadata": {},
          "execution_count": 63
        }
      ]
    },
    {
      "cell_type": "code",
      "source": [],
      "metadata": {
        "id": "Dcd-FCzhVSQl"
      },
      "execution_count": null,
      "outputs": []
    }
  ]
}