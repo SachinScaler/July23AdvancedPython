{
  "nbformat": 4,
  "nbformat_minor": 0,
  "metadata": {
    "colab": {
      "provenance": [],
      "authorship_tag": "ABX9TyPEHpCmWxKjUIvr+kq2tpif",
      "include_colab_link": true
    },
    "kernelspec": {
      "name": "python3",
      "display_name": "Python 3"
    },
    "language_info": {
      "name": "python"
    }
  },
  "cells": [
    {
      "cell_type": "markdown",
      "metadata": {
        "id": "view-in-github",
        "colab_type": "text"
      },
      "source": [
        "<a href=\"https://colab.research.google.com/github/SachinScaler/July23AdvancedPython/blob/main/Time_and_Space_Complexity.ipynb\" target=\"_parent\"><img src=\"https://colab.research.google.com/assets/colab-badge.svg\" alt=\"Open In Colab\"/></a>"
      ]
    },
    {
      "cell_type": "code",
      "execution_count": 1,
      "metadata": {
        "id": "QuGfXr4BsAVb"
      },
      "outputs": [],
      "source": [
        "def foo(n): # 1\n",
        "    x = 1   # 1\n",
        "    print(x) #1\n",
        "    print(n) #1\n"
      ]
    },
    {
      "cell_type": "code",
      "source": [
        "foo(10)"
      ],
      "metadata": {
        "colab": {
          "base_uri": "https://localhost:8080/"
        },
        "id": "0oomCj4XtmWA",
        "outputId": "aefc7036-1ebd-4dba-d2d6-4efa99ee6a40"
      },
      "execution_count": 2,
      "outputs": [
        {
          "output_type": "stream",
          "name": "stdout",
          "text": [
            "1\n",
            "10\n"
          ]
        }
      ]
    },
    {
      "cell_type": "code",
      "source": [
        "foo(11)"
      ],
      "metadata": {
        "colab": {
          "base_uri": "https://localhost:8080/"
        },
        "id": "OvyvVzKKtyM5",
        "outputId": "abf26009-c9a3-4600-9332-9a98af922f91"
      },
      "execution_count": 3,
      "outputs": [
        {
          "output_type": "stream",
          "name": "stdout",
          "text": [
            "1\n",
            "11\n"
          ]
        }
      ]
    },
    {
      "cell_type": "markdown",
      "source": [
        "-> Number of OPS in foo are not depended on N.\n",
        "\n",
        "Foo is a constant time function."
      ],
      "metadata": {
        "id": "nLKITKl7t5So"
      }
    },
    {
      "cell_type": "code",
      "source": [
        "def foo2(n): # 1\n",
        "    x = 1   # 1\n",
        "    for i in range(n): # n\n",
        "        print(i) # n\n",
        "\n",
        "foo(5) # 12\n",
        "foo(6) # 14"
      ],
      "metadata": {
        "id": "NHEpXsFztzxT"
      },
      "execution_count": null,
      "outputs": []
    },
    {
      "cell_type": "markdown",
      "source": [
        "foo2(n)-> n+n+2-> 2n+2\n",
        "foo2 has linear dependency on n\n"
      ],
      "metadata": {
        "id": "PN_SAskouY-a"
      }
    },
    {
      "cell_type": "code",
      "source": [
        "def foo3(n): # 1\n",
        "    x = 1   # 1\n",
        "    for i in range(n): # n\n",
        "        for j in range(n) # n^2\n",
        "            print(i) # n^2\n",
        "\n",
        "foo(5) # 12\n",
        "foo(6) # 14"
      ],
      "metadata": {
        "id": "HMLf29RIursD"
      },
      "execution_count": null,
      "outputs": []
    },
    {
      "cell_type": "code",
      "source": [],
      "metadata": {
        "id": "0sT3lMM9vEgY"
      },
      "execution_count": null,
      "outputs": []
    },
    {
      "cell_type": "markdown",
      "source": [
        "foo3: 2n^2 +n+2\n",
        "-> Hence foo3 is Quadratic"
      ],
      "metadata": {
        "id": "uF6bWZKLu1_k"
      }
    },
    {
      "cell_type": "markdown",
      "source": [
        "Big O:\n",
        "Big O is represntation of Time Complexity which only cares about Trend.\n",
        "-  We only pick term with Highest Power and ingore co-effiecients"
      ],
      "metadata": {
        "id": "OFSc0dFWv4wC"
      }
    },
    {
      "cell_type": "code",
      "source": [
        "n = 3\n",
        "for i in range(n):\n",
        "    for j in range(n):\n",
        "        print(\"hello\")"
      ],
      "metadata": {
        "colab": {
          "base_uri": "https://localhost:8080/"
        },
        "id": "2SPxEwI5vO0f",
        "outputId": "1671542a-ba3c-4769-a472-31e17147861a"
      },
      "execution_count": 6,
      "outputs": [
        {
          "output_type": "stream",
          "name": "stdout",
          "text": [
            "hello\n",
            "hello\n",
            "hello\n",
            "hello\n",
            "hello\n",
            "hello\n",
            "hello\n",
            "hello\n",
            "hello\n"
          ]
        }
      ]
    },
    {
      "cell_type": "code",
      "source": [
        "for i in range(n): # n\n",
        "  for j in range(n):  #n\n",
        "    break\n",
        "\n",
        "# o(n)"
      ],
      "metadata": {
        "id": "c-Zu7kfgyhk_"
      },
      "execution_count": 8,
      "outputs": []
    },
    {
      "cell_type": "code",
      "source": [
        "for i in range((n)):\n",
        "    for j in range(0,n,n//2):\n",
        "            break\n",
        "for k in range((n)):\n",
        "        print(k)\n",
        "\n",
        "# o(n)"
      ],
      "metadata": {
        "id": "nXAC5kGIy8sI"
      },
      "execution_count": null,
      "outputs": []
    },
    {
      "cell_type": "code",
      "source": [
        "for i in range((n)):\n",
        "    for j in range(0,n,n//2): # 2\n",
        "            print(j) # 2 times\n",
        "for k in range((n)):\n",
        "        print(k)\n",
        "\n",
        "# o(n)"
      ],
      "metadata": {
        "id": "UNvCpHe-zhVF"
      },
      "execution_count": null,
      "outputs": []
    },
    {
      "cell_type": "code",
      "source": [
        "1//2"
      ],
      "metadata": {
        "colab": {
          "base_uri": "https://localhost:8080/"
        },
        "id": "35_4kvBV0_o7",
        "outputId": "ce483241-75f8-4b0f-b684-12ee8eb2e6b3"
      },
      "execution_count": 10,
      "outputs": [
        {
          "output_type": "execute_result",
          "data": {
            "text/plain": [
              "0"
            ]
          },
          "metadata": {},
          "execution_count": 10
        }
      ]
    },
    {
      "cell_type": "code",
      "source": [
        "def factorial(x):\n",
        "    if x == 1:\n",
        "        return 1\n",
        "    else:\n",
        "        return (x * factorial(x-1))"
      ],
      "metadata": {
        "id": "vBqFlLMi1C1o"
      },
      "execution_count": null,
      "outputs": []
    },
    {
      "cell_type": "code",
      "source": [
        "list1 = []\n",
        "for k in range((n)):\n",
        "        list1.append(k)\n",
        "print(k, list1)\n",
        "# extra space= n+1-> o(n)"
      ],
      "metadata": {
        "colab": {
          "base_uri": "https://localhost:8080/"
        },
        "id": "McbBOmlE2VLL",
        "outputId": "7ce1d1c3-09bb-47e5-f71a-e14cca5f13c0"
      },
      "execution_count": 12,
      "outputs": [
        {
          "output_type": "stream",
          "name": "stdout",
          "text": [
            "2 [0, 1, 2]\n"
          ]
        }
      ]
    },
    {
      "cell_type": "markdown",
      "source": [
        "### How fast is O(LogN) compare to O(N):\n",
        "\n",
        "```\n",
        "# dictionary -> {101:{\"Name\":\"Sachin\", \"DOB\":\"10/11/2022\"},\n",
        "                 102:{\"Name\":\"Naveen\", \"DOB\":\"15/11/1909\"},\n",
        "                 103:{\"Name\":\"Naveen\", \"DOB\":\"15/11/1909\"},\n",
        "                 \n",
        "                 n:....\n",
        "                 }\n",
        "```"
      ],
      "metadata": {
        "id": "6u35rWhB4s36"
      }
    },
    {
      "cell_type": "code",
      "source": [
        "n = 100111\n",
        "# dict1[100111]--> o(1) as the id/key get converted into memory address using hash function\n"
      ],
      "metadata": {
        "id": "DAlQdDjm2vVH"
      },
      "execution_count": null,
      "outputs": []
    },
    {
      "cell_type": "code",
      "source": [
        "dict1={1:\"hello\"}\n",
        "dict2={1:\"World\"}\n",
        "\n",
        "id(dict1[1])"
      ],
      "metadata": {
        "colab": {
          "base_uri": "https://localhost:8080/"
        },
        "id": "heqVUu0h7e84",
        "outputId": "f46bae68-540f-4918-9547-1f0a5a1b3477"
      },
      "execution_count": 13,
      "outputs": [
        {
          "output_type": "execute_result",
          "data": {
            "text/plain": [
              "136405870190768"
            ]
          },
          "metadata": {},
          "execution_count": 13
        }
      ]
    },
    {
      "cell_type": "code",
      "source": [
        "id(dict2[1])"
      ],
      "metadata": {
        "colab": {
          "base_uri": "https://localhost:8080/"
        },
        "id": "2THDTVML7nKg",
        "outputId": "bb8193a6-78b6-4c1e-b1f1-f703a54d0271"
      },
      "execution_count": 14,
      "outputs": [
        {
          "output_type": "execute_result",
          "data": {
            "text/plain": [
              "136405033043888"
            ]
          },
          "metadata": {},
          "execution_count": 14
        }
      ]
    },
    {
      "cell_type": "markdown",
      "source": [
        "Given list of adhaar, find target t:\n",
        "n = [100,101,102.....1.4 billion]"
      ],
      "metadata": {
        "id": "sx65gJT071qW"
      }
    },
    {
      "cell_type": "code",
      "source": [
        "# linear time complexity\n",
        "def linear_search(list1,target):\n",
        "    for i in range(len(list1)): # n\n",
        "        if list1[i]==target: # n\n",
        "            return i           # 1\n",
        "list1 = [0,1,2,3,4,5,10]\n",
        "target = 10\n",
        "linear_search(list1,target)"
      ],
      "metadata": {
        "colab": {
          "base_uri": "https://localhost:8080/"
        },
        "id": "1wiI7LSj7pS4",
        "outputId": "1adaf0b9-764f-43cd-d70e-8db8375a2474"
      },
      "execution_count": 17,
      "outputs": [
        {
          "output_type": "execute_result",
          "data": {
            "text/plain": [
              "6"
            ]
          },
          "metadata": {},
          "execution_count": 17
        }
      ]
    },
    {
      "cell_type": "markdown",
      "source": [
        "TC: o(n)\n",
        "SC: o(1)"
      ],
      "metadata": {
        "id": "I6Jhh43-9UvM"
      }
    },
    {
      "cell_type": "code",
      "source": [],
      "metadata": {
        "id": "JMcSmeeJ9UHk"
      },
      "execution_count": null,
      "outputs": []
    },
    {
      "cell_type": "code",
      "source": [
        "def find_valid(list1,target):\n",
        "    if target in list1:\n",
        "        return \"Present\"\n",
        "    else:\n",
        "        return \"Not Present\"\n",
        "\n",
        "list1 = [0,1,2,3,4,5,10]\n",
        "target = 10\n",
        "list1 = set(list1)\n",
        "linear_search(list1,target)"
      ],
      "metadata": {
        "id": "8k6U1JAv8UO_"
      },
      "execution_count": null,
      "outputs": []
    },
    {
      "cell_type": "markdown",
      "source": [
        "o(n)--> o(1)\n",
        "o(n)"
      ],
      "metadata": {
        "id": "9IsDKQx_9Mbm"
      }
    },
    {
      "cell_type": "markdown",
      "source": [
        "Binary-Search:"
      ],
      "metadata": {
        "id": "piuwzIl39hlo"
      }
    },
    {
      "cell_type": "code",
      "source": [
        "def binary_search(list1, target):\n",
        "    i,j = 0,len(list1)-1\n",
        "    while i<=j: # stopping criteria i>j\n",
        "        mid_point = (i+j)//2\n",
        "        if list1[mid_point]>target:\n",
        "            j = mid_point-1\n",
        "        elif list1[mid_point]<target:\n",
        "            i = mid_point+1\n",
        "        else:\n",
        "            return mid_point\n",
        "    return \"Target Not Found\"\n",
        "\n",
        "list1 = [0,1,2,3,4,5,10]\n",
        "target = -1\n",
        "binary_search(list1, target)"
      ],
      "metadata": {
        "colab": {
          "base_uri": "https://localhost:8080/",
          "height": 56
        },
        "id": "bBT_TOjf9L_I",
        "outputId": "7dc477f4-a22c-4ee0-c58b-3123ebc8e674"
      },
      "execution_count": 21,
      "outputs": [
        {
          "output_type": "execute_result",
          "data": {
            "text/plain": [
              "'Target Not Found'"
            ],
            "application/vnd.google.colaboratory.intrinsic+json": {
              "type": "string"
            }
          },
          "metadata": {},
          "execution_count": 21
        }
      ]
    },
    {
      "cell_type": "markdown",
      "source": [
        "- TC: o(log_2(n))\n",
        "- SC: o(1)"
      ],
      "metadata": {
        "id": "f_03ohzqBlwr"
      }
    },
    {
      "cell_type": "code",
      "source": [
        "7,000,000,000"
      ],
      "metadata": {
        "id": "__8YXzNYACwa"
      },
      "execution_count": null,
      "outputs": []
    },
    {
      "cell_type": "markdown",
      "source": [
        "7,000,000,000-> 7 Billion with linear search"
      ],
      "metadata": {
        "id": "AcYTz7w9B8zv"
      }
    },
    {
      "cell_type": "code",
      "source": [
        "import math\n",
        "math.log(7000000000,2)"
      ],
      "metadata": {
        "colab": {
          "base_uri": "https://localhost:8080/"
        },
        "id": "hyoBM1QuB7xE",
        "outputId": "d92e500c-221a-4d2b-837c-bc98d8ace9c6"
      },
      "execution_count": 24,
      "outputs": [
        {
          "output_type": "execute_result",
          "data": {
            "text/plain": [
              "32.70470777604387"
            ]
          },
          "metadata": {},
          "execution_count": 24
        }
      ]
    },
    {
      "cell_type": "code",
      "source": [
        "# help(math.log)"
      ],
      "metadata": {
        "colab": {
          "base_uri": "https://localhost:8080/"
        },
        "id": "mAH4taCwCId6",
        "outputId": "fce25d4f-540a-4a38-e8ec-87550b610b4a"
      },
      "execution_count": 23,
      "outputs": [
        {
          "output_type": "stream",
          "name": "stdout",
          "text": [
            "Help on built-in function log in module math:\n",
            "\n",
            "log(...)\n",
            "    log(x, [base=math.e])\n",
            "    Return the logarithm of x to the given base.\n",
            "    \n",
            "    If the base not specified, returns the natural logarithm (base e) of x.\n",
            "\n"
          ]
        }
      ]
    },
    {
      "cell_type": "code",
      "source": [
        "# can Binary search work for strings? Yes\n",
        "# what happens in case of duplicate element? [ 0,1,1,1,1,4,5,7] #any\n"
      ],
      "metadata": {
        "id": "6a0d8SvcCMiF"
      },
      "execution_count": 26,
      "outputs": []
    },
    {
      "cell_type": "markdown",
      "source": [
        "Homework: Think of getting 1st position of target always using binary search"
      ],
      "metadata": {
        "id": "l5pW7bGjC-97"
      }
    },
    {
      "cell_type": "markdown",
      "source": [
        "Fib: 0, 1, 1, 2, 3, 5, 8, 13, 21, 34, 55, 89, 144, 233, 377, 610, 987, 1597, 2584"
      ],
      "metadata": {
        "id": "8G4757XDDVQu"
      }
    },
    {
      "cell_type": "code",
      "source": [
        "# f(n) = f(n-1)+f(n-2)\n",
        "# program to get nth term in fib\n",
        "\n",
        "def fib(n):\n",
        "    if n<=1:\n",
        "        return n\n",
        "    else:\n",
        "        return fib(n-1) + fib(n-2)\n",
        "n =7\n",
        "fib(7)"
      ],
      "metadata": {
        "colab": {
          "base_uri": "https://localhost:8080/"
        },
        "id": "OOZG4YKvCp9P",
        "outputId": "fbdbdab5-a414-4ed0-d52b-7f751adf44a3"
      },
      "execution_count": 27,
      "outputs": [
        {
          "output_type": "execute_result",
          "data": {
            "text/plain": [
              "13"
            ]
          },
          "metadata": {},
          "execution_count": 27
        }
      ]
    },
    {
      "cell_type": "markdown",
      "source": [
        "# memoization or cache the execution in dictionary"
      ],
      "metadata": {
        "id": "UtuykEmuE7-8"
      }
    },
    {
      "cell_type": "code",
      "source": [
        "# tabulation\n",
        "def fib_tab(n):\n",
        "    list1 = [0,1]\n",
        "    if n<=1:\n",
        "        return list1[n]\n",
        "    else:\n",
        "        while n-2>=0:\n",
        "            out = list1[-1] + list1[-2]\n",
        "            list1.append(out)\n",
        "            n-=1\n",
        "        return list1[-1]\n",
        "\n",
        "fib_tab(n)"
      ],
      "metadata": {
        "colab": {
          "base_uri": "https://localhost:8080/"
        },
        "id": "FH59kM5DEGXp",
        "outputId": "d9f75110-fec3-4a85-f3ef-6b9da00cca87"
      },
      "execution_count": 28,
      "outputs": [
        {
          "output_type": "execute_result",
          "data": {
            "text/plain": [
              "13"
            ]
          },
          "metadata": {},
          "execution_count": 28
        }
      ]
    },
    {
      "cell_type": "markdown",
      "source": [
        "```\n",
        "TC: o(n)\n",
        "SC: o(n)\n",
        "```"
      ],
      "metadata": {
        "id": "MOk49lGvGJPX"
      }
    },
    {
      "cell_type": "markdown",
      "source": [
        "### Homework: Optimize tabulation to remove extra space?\n",
        "### Homework: Binary search on 2D List?"
      ],
      "metadata": {
        "id": "w2sP25YMGVZN"
      }
    },
    {
      "cell_type": "code",
      "source": [
        "list1 = [[1,2,3],\n",
        "         [11,11,15],\n",
        "         [16,17,200]]\n",
        "\n",
        "# nxm"
      ],
      "metadata": {
        "id": "Ubp1MvqIFoJ0"
      },
      "execution_count": 30,
      "outputs": []
    },
    {
      "cell_type": "code",
      "source": [],
      "metadata": {
        "id": "19iDte2QG6HI"
      },
      "execution_count": null,
      "outputs": []
    }
  ]
}