{
  "nbformat": 4,
  "nbformat_minor": 0,
  "metadata": {
    "colab": {
      "provenance": [],
      "authorship_tag": "ABX9TyPTtykzOyVGO81wPg7BXuTm",
      "include_colab_link": true
    },
    "kernelspec": {
      "name": "python3",
      "display_name": "Python 3"
    },
    "language_info": {
      "name": "python"
    }
  },
  "cells": [
    {
      "cell_type": "markdown",
      "metadata": {
        "id": "view-in-github",
        "colab_type": "text"
      },
      "source": [
        "<a href=\"https://colab.research.google.com/github/SachinScaler/July23AdvancedPython/blob/main/recursion_practice_sheet.ipynb\" target=\"_parent\"><img src=\"https://colab.research.google.com/assets/colab-badge.svg\" alt=\"Open In Colab\"/></a>"
      ]
    },
    {
      "cell_type": "markdown",
      "source": [
        "Note: Some of these problems can be solved without recursion but since our goal is to learn and practice recursion, try to find recursive solutions only:\n",
        "\n",
        "\n",
        "### l1:\n",
        "Q1: Find last index of element A in List lst:\n",
        "sample_input:\n",
        "\n",
        "```\n",
        "10\n",
        "[1,10, 23,4,6,6,1,6,101,10]\n",
        "```\n",
        "expected output:\n",
        "`9`\n",
        "\n",
        "\n",
        "Q2: Find all indexes of element A in List lst:\n",
        "- sample_input\n",
        "\n",
        "\n",
        "```\n",
        "0\n",
        "[1,10, 23,4,6,6,1,6,101,10]\n",
        "```\n",
        "\n",
        "\n",
        "- expected output:\n",
        "\n",
        "```\n",
        "[1,9]\n",
        "```\n",
        "\n",
        "\n",
        "Q3:\n",
        "Given a list lst, find the minimum number in lst using recursion:\n",
        "- sample_input:\n",
        "```\n",
        "[1,10, 23,-4,6,6,1,6,101,10]\n",
        "```\n",
        "\n",
        "- expected output:\n",
        "\n",
        "```\n",
        "-4\n",
        "```\n",
        "\n",
        "### L2:\n",
        "\n",
        "Q1: Get all Subsequences of a string:\n",
        "input: 'abc\n",
        "output: a, b, c, ab, bc, ac, abc, \"\"\n",
        "\n",
        "Q2: https://www.interviewbit.com/problems/stairs/\n",
        "\n",
        "Q3:\n",
        "- You are given a string str. The string str will contains numbers only, where each number stands for a key pressed on a mobile phone.\n",
        "- The following list is the key to characters map :\n",
        "    0 -> .;\n",
        "    1 -> abc\n",
        "    2 -> def\n",
        "    3 -> ghi\n",
        "    4 -> jkl\n",
        "    5 -> mno\n",
        "    6 -> pqrs\n",
        "    7 -> tu\n",
        "    8 -> vwx\n",
        "    9 -> yz\n",
        "- sample input: 78\n",
        "- sample ouput: [tv, tw, tx, uv, uw, ux]\n",
        "\n",
        "Q4:\n",
        "1. You are given a number n and a number m representing number of rows and columns in a maze.\n",
        "2. You are standing in the top-left corner and have to reach the bottom-right corner. Only two moves are allowed 'h' (1-step horizontal) and 'v' (1-step vertical).\n",
        "sample_input:(n,m)\n",
        "3 3\n",
        "\n",
        "Expected ouput:\n",
        "[hhvv, hvhv, hvvh, vhhv, vhvh, vvhh]\n",
        "\n",
        "Q5: https://www.interviewbit.com/problems/counting-subarrays/\n",
        "\n",
        "### L3:\n",
        "Q1: https://www.interviewbit.com/problems/all-possible-combinations/\n",
        "\n",
        "Q2: https://leetcode.com/problems/n-queens/\n",
        "\n",
        "Q3: https://www.interviewbit.com/problems/knight-on-chess-board/"
      ],
      "metadata": {
        "id": "WxZWt_yF7igF"
      }
    },
    {
      "cell_type": "code",
      "execution_count": null,
      "metadata": {
        "id": "Q2zPJOei7I5h",
        "colab": {
          "base_uri": "https://localhost:8080/"
        },
        "outputId": "8f86e475-c240-4d30-ab79-bdc8518e96b9"
      },
      "outputs": [
        {
          "output_type": "execute_result",
          "data": {
            "text/plain": [
              "9"
            ]
          },
          "metadata": {},
          "execution_count": 18
        }
      ],
      "source": [
        "def\tmain(Num):\n",
        "  #\tYOUR\tCODE\tGOES\tHERE\n",
        "  #\tPlease\ttake\tinput\tand\tprint\toutput\tto\tstandard\tinput/output\t(stdin/stdout)\n",
        "  #\tE.g.\t'input()/raw_input()'\tfor\tinput\t&\t'print'\tfor\toutput\n",
        "  sum=0\n",
        "  while(Num!=0):\n",
        "    rem = Num%10 # extract digit. For example 45%10=5\n",
        "    Num=Num//10 # update number. for Example 45//10 = 4\n",
        "    sum=sum+rem\n",
        "  return\tsum\n",
        "\n",
        "\n",
        "main(45)"
      ]
    },
    {
      "cell_type": "code",
      "source": [],
      "metadata": {
        "colab": {
          "base_uri": "https://localhost:8080/",
          "height": 133
        },
        "id": "9rtV2QDVz5-B",
        "outputId": "0fb5cfa9-70d4-49b7-a356-99eb0bc9cf63"
      },
      "execution_count": null,
      "outputs": [
        {
          "output_type": "error",
          "ename": "IndentationError",
          "evalue": "ignored",
          "traceback": [
            "\u001b[0;36m  File \u001b[0;32m\"<tokenize>\"\u001b[0;36m, line \u001b[0;32m4\u001b[0m\n\u001b[0;31m    rem = Num%10\u001b[0m\n\u001b[0m    ^\u001b[0m\n\u001b[0;31mIndentationError\u001b[0m\u001b[0;31m:\u001b[0m unindent does not match any outer indentation level\n"
          ]
        }
      ]
    },
    {
      "cell_type": "code",
      "source": [],
      "metadata": {
        "id": "3NBnaB4U06GW"
      },
      "execution_count": null,
      "outputs": []
    }
  ]
}