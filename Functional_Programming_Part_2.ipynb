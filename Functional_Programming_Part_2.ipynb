{
  "nbformat": 4,
  "nbformat_minor": 0,
  "metadata": {
    "colab": {
      "provenance": [],
      "authorship_tag": "ABX9TyNl7GQO51b8tojJR6aHJ3G2",
      "include_colab_link": true
    },
    "kernelspec": {
      "name": "python3",
      "display_name": "Python 3"
    },
    "language_info": {
      "name": "python"
    }
  },
  "cells": [
    {
      "cell_type": "markdown",
      "metadata": {
        "id": "view-in-github",
        "colab_type": "text"
      },
      "source": [
        "<a href=\"https://colab.research.google.com/github/SachinScaler/July23AdvancedPython/blob/main/Functional_Programming_Part_2.ipynb\" target=\"_parent\"><img src=\"https://colab.research.google.com/assets/colab-badge.svg\" alt=\"Open In Colab\"/></a>"
      ]
    },
    {
      "cell_type": "code",
      "execution_count": 3,
      "metadata": {
        "colab": {
          "base_uri": "https://localhost:8080/"
        },
        "id": "crQ-MnUZzwld",
        "outputId": "450c7501-de0f-415c-c5b9-4429248e18c0"
      },
      "outputs": [
        {
          "output_type": "execute_result",
          "data": {
            "text/plain": [
              "['Kausach', 'Elephant', 'Voweels', 'Heeello', 'eeeel']"
            ]
          },
          "metadata": {},
          "execution_count": 3
        }
      ],
      "source": [
        "list1 = [\"Heeello\", \"eeeel\", \"Voweels\", \"Kausach\", \"Elephant\" ]\n",
        "sorted(list1, key = lambda x: x.count('e'))"
      ]
    },
    {
      "cell_type": "code",
      "source": [
        "sorted([\"eel\",\"eek\",'e'], key = lambda x:x.count('e'))"
      ],
      "metadata": {
        "colab": {
          "base_uri": "https://localhost:8080/"
        },
        "id": "uNYEae9wz3CB",
        "outputId": "67ee44f7-5f8c-4b10-91f8-8db4fe444d15"
      },
      "execution_count": 6,
      "outputs": [
        {
          "output_type": "execute_result",
          "data": {
            "text/plain": [
              "['e', 'eel', 'eek']"
            ]
          },
          "metadata": {},
          "execution_count": 6
        }
      ]
    },
    {
      "cell_type": "markdown",
      "source": [
        "Zip"
      ],
      "metadata": {
        "id": "0rGgmLYA0q4s"
      }
    },
    {
      "cell_type": "code",
      "source": [
        "list1 = [1,2,3]\n",
        "tup1 = (\"A\",\"B\",\"C\")\n",
        "\n",
        "print(list(zip(list1, tup1)))"
      ],
      "metadata": {
        "colab": {
          "base_uri": "https://localhost:8080/"
        },
        "id": "H-mJlFPw0Rf3",
        "outputId": "439d3409-4d2c-45cf-b94c-b08df30e7483"
      },
      "execution_count": 8,
      "outputs": [
        {
          "output_type": "stream",
          "name": "stdout",
          "text": [
            "[(1, 'A'), (2, 'B'), (3, 'C')]\n"
          ]
        }
      ]
    },
    {
      "cell_type": "code",
      "source": [
        "print(tuple(zip(list1, tup1)))"
      ],
      "metadata": {
        "colab": {
          "base_uri": "https://localhost:8080/"
        },
        "id": "0INtScik053T",
        "outputId": "fa69bf77-ed84-45a9-baa5-a7d4ba46dc22"
      },
      "execution_count": 9,
      "outputs": [
        {
          "output_type": "stream",
          "name": "stdout",
          "text": [
            "((1, 'A'), (2, 'B'), (3, 'C'))\n"
          ]
        }
      ]
    },
    {
      "cell_type": "code",
      "source": [
        "print(set(zip(list1, tup1)))"
      ],
      "metadata": {
        "colab": {
          "base_uri": "https://localhost:8080/"
        },
        "id": "bsUkhpbM1nDf",
        "outputId": "1df475ea-7219-4941-8972-d842318e4c47"
      },
      "execution_count": 10,
      "outputs": [
        {
          "output_type": "stream",
          "name": "stdout",
          "text": [
            "{(2, 'B'), (3, 'C'), (1, 'A')}\n"
          ]
        }
      ]
    },
    {
      "cell_type": "code",
      "source": [
        "print(dict(zip(list1, tup1)))"
      ],
      "metadata": {
        "colab": {
          "base_uri": "https://localhost:8080/"
        },
        "id": "GgoU8hbp1oVD",
        "outputId": "fcee291f-1205-4e68-aeb9-dc20d5bcae2e"
      },
      "execution_count": 11,
      "outputs": [
        {
          "output_type": "stream",
          "name": "stdout",
          "text": [
            "{1: 'A', 2: 'B', 3: 'C'}\n"
          ]
        }
      ]
    },
    {
      "cell_type": "code",
      "source": [
        "list1 = [\"A\", \"B\", \"C\"]\n",
        "list2 = range(1,100)\n",
        "print(list(zip(list1,list2 )))"
      ],
      "metadata": {
        "colab": {
          "base_uri": "https://localhost:8080/"
        },
        "id": "Vpjrk5ZE1q77",
        "outputId": "39be2c6c-1dc3-4952-cf64-01d6292a810c"
      },
      "execution_count": 12,
      "outputs": [
        {
          "output_type": "stream",
          "name": "stdout",
          "text": [
            "[('A', 1), ('B', 2), ('C', 3)]\n"
          ]
        }
      ]
    },
    {
      "cell_type": "code",
      "source": [
        "list1 = [\"A\", \"B\", \"C\"] # length 3\n",
        "list2 = [1,2,3,4] # length 4\n",
        "list3 = [\"!\", \"@\", \"#\", \"$\", \"%\"] # length 5\n",
        "set(zip(list1,list2 ,list3))"
      ],
      "metadata": {
        "colab": {
          "base_uri": "https://localhost:8080/"
        },
        "id": "gWrEmVKo2VTW",
        "outputId": "230b158b-1518-4612-9e4c-b71fe6620ce9"
      },
      "execution_count": 17,
      "outputs": [
        {
          "output_type": "execute_result",
          "data": {
            "text/plain": [
              "{('A', 1, '!'), ('B', 2, '@'), ('C', 3, '#')}"
            ]
          },
          "metadata": {},
          "execution_count": 17
        }
      ]
    },
    {
      "cell_type": "code",
      "source": [
        "for x,y,z in zip(list1,list2 ,list3):\n",
        "    print(x,y,z)"
      ],
      "metadata": {
        "colab": {
          "base_uri": "https://localhost:8080/"
        },
        "id": "K94je3ES2pBF",
        "outputId": "4c3b5bd0-4dba-4c5d-c23a-7c396c5a7c5c"
      },
      "execution_count": 18,
      "outputs": [
        {
          "output_type": "stream",
          "name": "stdout",
          "text": [
            "A 1 !\n",
            "B 2 @\n",
            "C 3 #\n"
          ]
        }
      ]
    },
    {
      "cell_type": "code",
      "source": [
        "zipped_obj=zip(list1,list2 ,list3)\n",
        "list1,list2,list3 = zip(*zipped_obj)"
      ],
      "metadata": {
        "id": "T7l9fTtL3CLj"
      },
      "execution_count": 24,
      "outputs": []
    },
    {
      "cell_type": "code",
      "source": [
        "list1"
      ],
      "metadata": {
        "colab": {
          "base_uri": "https://localhost:8080/"
        },
        "id": "SHo4cozY3NMb",
        "outputId": "5918cca8-cee2-4368-8e95-5f9ef224d076"
      },
      "execution_count": 25,
      "outputs": [
        {
          "output_type": "execute_result",
          "data": {
            "text/plain": [
              "('A', 'B', 'C')"
            ]
          },
          "metadata": {},
          "execution_count": 25
        }
      ]
    },
    {
      "cell_type": "code",
      "source": [
        "list2"
      ],
      "metadata": {
        "colab": {
          "base_uri": "https://localhost:8080/"
        },
        "id": "jT0__NI93evK",
        "outputId": "23baea83-8e27-41dd-d4a7-7e36ee56c548"
      },
      "execution_count": 26,
      "outputs": [
        {
          "output_type": "execute_result",
          "data": {
            "text/plain": [
              "(1, 2, 3)"
            ]
          },
          "metadata": {},
          "execution_count": 26
        }
      ]
    },
    {
      "cell_type": "code",
      "source": [
        "list3"
      ],
      "metadata": {
        "colab": {
          "base_uri": "https://localhost:8080/"
        },
        "id": "Q8u9VRmV3hwO",
        "outputId": "664f3f4d-2483-4928-cc94-35962359f8a4"
      },
      "execution_count": 27,
      "outputs": [
        {
          "output_type": "execute_result",
          "data": {
            "text/plain": [
              "('!', '@', '#')"
            ]
          },
          "metadata": {},
          "execution_count": 27
        }
      ]
    },
    {
      "cell_type": "code",
      "source": [
        "list_tup = [('A', 1), ('B', 2), ('C', 3)]\n",
        "list1, list2 = zip(*list_tup)\n",
        "print(list1)\n",
        "print(list2)"
      ],
      "metadata": {
        "colab": {
          "base_uri": "https://localhost:8080/"
        },
        "id": "Megzd5Wr3inQ",
        "outputId": "a4117902-5cb3-4234-c5a1-583a2f407906"
      },
      "execution_count": 28,
      "outputs": [
        {
          "output_type": "stream",
          "name": "stdout",
          "text": [
            "('A', 'B', 'C')\n",
            "(1, 2, 3)\n"
          ]
        }
      ]
    },
    {
      "cell_type": "code",
      "source": [
        "print(list(map(list,(zip(*list_tup)))))"
      ],
      "metadata": {
        "colab": {
          "base_uri": "https://localhost:8080/"
        },
        "id": "w8VTN4br4AdW",
        "outputId": "4a9a1865-211f-4d65-a031-3418fb3e1e57"
      },
      "execution_count": 37,
      "outputs": [
        {
          "output_type": "stream",
          "name": "stdout",
          "text": [
            "[['A', 'B', 'C'], [1, 2, 3]]\n"
          ]
        }
      ]
    },
    {
      "cell_type": "code",
      "source": [
        "import numpy as np\n",
        "arr = np.array([[1,2],\n",
        "         [2,4]])"
      ],
      "metadata": {
        "id": "18BdrEKl35fb"
      },
      "execution_count": 32,
      "outputs": []
    },
    {
      "cell_type": "code",
      "source": [
        "list1, list2 = zip(*arr)\n",
        "print(list1)\n",
        "print(list2)"
      ],
      "metadata": {
        "colab": {
          "base_uri": "https://localhost:8080/"
        },
        "id": "38WKQ58M4YRB",
        "outputId": "dc7f1b5d-0d81-4302-8354-c2e11f99fe8a"
      },
      "execution_count": 34,
      "outputs": [
        {
          "output_type": "stream",
          "name": "stdout",
          "text": [
            "(1, 2)\n",
            "(2, 4)\n"
          ]
        }
      ]
    },
    {
      "cell_type": "markdown",
      "source": [
        "### Decorator:\n",
        "- Takes a function as argument and return another function\n",
        "- Adds extra functionality/Behaviour"
      ],
      "metadata": {
        "id": "HAOMEd5q5sf5"
      }
    },
    {
      "cell_type": "code",
      "source": [
        "def foo():\n",
        "    print(\"Hi Everyone.\")\n",
        "\n",
        "def bar():\n",
        "    print(\"How are you doing?\")"
      ],
      "metadata": {
        "id": "FJXIIf1t4b3C"
      },
      "execution_count": 38,
      "outputs": []
    },
    {
      "cell_type": "code",
      "source": [
        "foo()"
      ],
      "metadata": {
        "colab": {
          "base_uri": "https://localhost:8080/"
        },
        "id": "SGXdZdgv52j3",
        "outputId": "e912642e-547a-4984-a31d-e62cef8f604a"
      },
      "execution_count": 39,
      "outputs": [
        {
          "output_type": "stream",
          "name": "stdout",
          "text": [
            "Hi Everyone.\n"
          ]
        }
      ]
    },
    {
      "cell_type": "code",
      "source": [
        "def new_foo():\n",
        "    print(\"-\"*50)\n",
        "    print(\"Hi Everyone.\")\n",
        "    print(\"-\"*50)\n",
        "new_foo()"
      ],
      "metadata": {
        "colab": {
          "base_uri": "https://localhost:8080/"
        },
        "id": "3G3jALaq5_7s",
        "outputId": "ba78c2de-f015-4bcf-8af9-9d86e0f1395e"
      },
      "execution_count": 40,
      "outputs": [
        {
          "output_type": "stream",
          "name": "stdout",
          "text": [
            "--------------------------------------------------\n",
            "Hi Everyone.\n",
            "--------------------------------------------------\n"
          ]
        }
      ]
    },
    {
      "cell_type": "code",
      "source": [
        "def new_bar():\n",
        "    print(\"-\"*50)\n",
        "    print(\"How are you doing?\")\n",
        "    print(\"-\"*50)\n",
        "\n",
        "new_bar()"
      ],
      "metadata": {
        "colab": {
          "base_uri": "https://localhost:8080/"
        },
        "id": "Udq7q1B76J2W",
        "outputId": "0248be74-d80d-4ed1-c8de-8f6e1e33f549"
      },
      "execution_count": 41,
      "outputs": [
        {
          "output_type": "stream",
          "name": "stdout",
          "text": [
            "--------------------------------------------------\n",
            "How are you doing?\n",
            "--------------------------------------------------\n"
          ]
        }
      ]
    },
    {
      "cell_type": "markdown",
      "source": [],
      "metadata": {
        "id": "QJ4vrHY26ZlA"
      }
    },
    {
      "cell_type": "code",
      "source": [
        "def pretty(func,):\n",
        "    def inner(): # heree\n",
        "        print(\"-\"*50)\n",
        "        func() # here\n",
        "        print(\"-\"*50)\n",
        "    return inner\n",
        "\n",
        "newBar = pretty(bar)\n",
        "newBar()"
      ],
      "metadata": {
        "colab": {
          "base_uri": "https://localhost:8080/"
        },
        "id": "wswAJQSS6S4s",
        "outputId": "07f36a48-6308-4583-c3bc-df623d044ef8"
      },
      "execution_count": 42,
      "outputs": [
        {
          "output_type": "stream",
          "name": "stdout",
          "text": [
            "--------------------------------------------------\n",
            "How are you doing?\n",
            "--------------------------------------------------\n"
          ]
        }
      ]
    },
    {
      "cell_type": "code",
      "source": [
        "newfoo = pretty(foo)\n",
        "print(type(newfoo))\n"
      ],
      "metadata": {
        "colab": {
          "base_uri": "https://localhost:8080/"
        },
        "id": "_33mVXXt60nr",
        "outputId": "79b213f9-cb7d-4a1e-b66c-09fa2c366fae"
      },
      "execution_count": 43,
      "outputs": [
        {
          "output_type": "stream",
          "name": "stdout",
          "text": [
            "<class 'function'>\n"
          ]
        }
      ]
    },
    {
      "cell_type": "code",
      "source": [
        "newfoo()"
      ],
      "metadata": {
        "colab": {
          "base_uri": "https://localhost:8080/"
        },
        "id": "6KPAgZG669iv",
        "outputId": "b15da42f-9d57-4eb1-f242-cb356fe09259"
      },
      "execution_count": 45,
      "outputs": [
        {
          "output_type": "stream",
          "name": "stdout",
          "text": [
            "--------------------------------------------------\n",
            "Hi Everyone.\n",
            "--------------------------------------------------\n"
          ]
        }
      ]
    },
    {
      "cell_type": "code",
      "source": [
        "@pretty\n",
        "def foobar():\n",
        "    print(\"My Name is sachin Kaushik\")\n",
        "foobar()"
      ],
      "metadata": {
        "colab": {
          "base_uri": "https://localhost:8080/"
        },
        "id": "FPgCUqcP6-WU",
        "outputId": "32ea2a23-669b-404c-c33c-370d44217315"
      },
      "execution_count": 46,
      "outputs": [
        {
          "output_type": "stream",
          "name": "stdout",
          "text": [
            "--------------------------------------------------\n",
            "My Name is sachin Kaushik\n",
            "--------------------------------------------------\n"
          ]
        }
      ]
    },
    {
      "cell_type": "code",
      "source": [
        "@pretty\n",
        "@pretty\n",
        "def foobar():\n",
        "    print(\"My Name is sachin Kaushik\")\n",
        "foobar()"
      ],
      "metadata": {
        "colab": {
          "base_uri": "https://localhost:8080/"
        },
        "id": "trriIntM7Pfw",
        "outputId": "6e7738e2-3c8a-426d-c411-07041349cf70"
      },
      "execution_count": 47,
      "outputs": [
        {
          "output_type": "stream",
          "name": "stdout",
          "text": [
            "--------------------------------------------------\n",
            "--------------------------------------------------\n",
            "My Name is sachin Kaushik\n",
            "--------------------------------------------------\n",
            "--------------------------------------------------\n"
          ]
        }
      ]
    },
    {
      "cell_type": "markdown",
      "source": [
        "HW:\n",
        "- Decorate func which accepts arguments"
      ],
      "metadata": {
        "id": "0-BqAQj17-e5"
      }
    },
    {
      "cell_type": "code",
      "source": [
        "def foobar(n):\n",
        "    print(\"*\"*n)"
      ],
      "metadata": {
        "id": "rNFDYnuE7rd7"
      },
      "execution_count": null,
      "outputs": []
    },
    {
      "cell_type": "code",
      "source": [
        "def pretty(func,n):\n",
        "    def inner(): # heree\n",
        "        print(\"-\"*n)\n",
        "        func() # here\n",
        "        print(\"-\"*n)\n",
        "    return inner"
      ],
      "metadata": {
        "id": "jaCS06n18lEM"
      },
      "execution_count": null,
      "outputs": []
    },
    {
      "cell_type": "markdown",
      "source": [
        "- arbitrary argumnets:"
      ],
      "metadata": {
        "id": "q20V4Jmg8wCw"
      }
    },
    {
      "cell_type": "code",
      "source": [
        "def func(a,b):\n",
        "    return a+b\n",
        "func(10,20)"
      ],
      "metadata": {
        "colab": {
          "base_uri": "https://localhost:8080/"
        },
        "id": "eg-xmBJZ827r",
        "outputId": "eb3d45e0-382a-45cf-d37a-5db729fdcac5"
      },
      "execution_count": 48,
      "outputs": [
        {
          "output_type": "execute_result",
          "data": {
            "text/plain": [
              "30"
            ]
          },
          "metadata": {},
          "execution_count": 48
        }
      ]
    },
    {
      "cell_type": "code",
      "source": [
        "def func(a,b):\n",
        "    return a+b\n",
        "func(10,20,30)"
      ],
      "metadata": {
        "colab": {
          "base_uri": "https://localhost:8080/",
          "height": 212
        },
        "id": "atak1apT87Jg",
        "outputId": "3f01af0e-4ac3-4ece-f663-681697254d04"
      },
      "execution_count": 49,
      "outputs": [
        {
          "output_type": "error",
          "ename": "TypeError",
          "evalue": "ignored",
          "traceback": [
            "\u001b[0;31m---------------------------------------------------------------------------\u001b[0m",
            "\u001b[0;31mTypeError\u001b[0m                                 Traceback (most recent call last)",
            "\u001b[0;32m<ipython-input-49-6a22b11ba4b8>\u001b[0m in \u001b[0;36m<cell line: 3>\u001b[0;34m()\u001b[0m\n\u001b[1;32m      1\u001b[0m \u001b[0;32mdef\u001b[0m \u001b[0mfunc\u001b[0m\u001b[0;34m(\u001b[0m\u001b[0ma\u001b[0m\u001b[0;34m,\u001b[0m\u001b[0mb\u001b[0m\u001b[0;34m)\u001b[0m\u001b[0;34m:\u001b[0m\u001b[0;34m\u001b[0m\u001b[0;34m\u001b[0m\u001b[0m\n\u001b[1;32m      2\u001b[0m     \u001b[0;32mreturn\u001b[0m \u001b[0ma\u001b[0m\u001b[0;34m+\u001b[0m\u001b[0mb\u001b[0m\u001b[0;34m\u001b[0m\u001b[0;34m\u001b[0m\u001b[0m\n\u001b[0;32m----> 3\u001b[0;31m \u001b[0mfunc\u001b[0m\u001b[0;34m(\u001b[0m\u001b[0;36m10\u001b[0m\u001b[0;34m,\u001b[0m\u001b[0;36m20\u001b[0m\u001b[0;34m,\u001b[0m\u001b[0;36m30\u001b[0m\u001b[0;34m)\u001b[0m\u001b[0;34m\u001b[0m\u001b[0;34m\u001b[0m\u001b[0m\n\u001b[0m",
            "\u001b[0;31mTypeError\u001b[0m: func() takes 2 positional arguments but 3 were given"
          ]
        }
      ]
    },
    {
      "cell_type": "code",
      "source": [
        "def func(*a):\n",
        "    print(a, type(a))\n",
        "    return sum(a)\n",
        "func(10,20,30)"
      ],
      "metadata": {
        "colab": {
          "base_uri": "https://localhost:8080/"
        },
        "id": "rHVNXGB_89AK",
        "outputId": "b4bae228-adc3-424d-8539-56ebf8f9a678"
      },
      "execution_count": 50,
      "outputs": [
        {
          "output_type": "stream",
          "name": "stdout",
          "text": [
            "(10, 20, 30) <class 'tuple'>\n"
          ]
        },
        {
          "output_type": "execute_result",
          "data": {
            "text/plain": [
              "60"
            ]
          },
          "metadata": {},
          "execution_count": 50
        }
      ]
    },
    {
      "cell_type": "code",
      "source": [
        "func(10)"
      ],
      "metadata": {
        "colab": {
          "base_uri": "https://localhost:8080/"
        },
        "id": "wG5Ed_MY9FWY",
        "outputId": "13debe5c-da20-4e01-e36e-eb6358d989e3"
      },
      "execution_count": 51,
      "outputs": [
        {
          "output_type": "stream",
          "name": "stdout",
          "text": [
            "(10,) <class 'tuple'>\n"
          ]
        },
        {
          "output_type": "execute_result",
          "data": {
            "text/plain": [
              "10"
            ]
          },
          "metadata": {},
          "execution_count": 51
        }
      ]
    },
    {
      "cell_type": "code",
      "source": [
        "func()"
      ],
      "metadata": {
        "colab": {
          "base_uri": "https://localhost:8080/"
        },
        "id": "AXfdTgeO9LWk",
        "outputId": "f9974569-23cf-4d7b-ea65-c38c103394cb"
      },
      "execution_count": 52,
      "outputs": [
        {
          "output_type": "stream",
          "name": "stdout",
          "text": [
            "() <class 'tuple'>\n"
          ]
        },
        {
          "output_type": "execute_result",
          "data": {
            "text/plain": [
              "0"
            ]
          },
          "metadata": {},
          "execution_count": 52
        }
      ]
    },
    {
      "cell_type": "code",
      "source": [
        "def func(b,*a):\n",
        "    print(a, type(a))\n",
        "    return b+sum(a)\n",
        "func(10)"
      ],
      "metadata": {
        "colab": {
          "base_uri": "https://localhost:8080/",
          "height": 212
        },
        "id": "-1xUvVVJ9MzC",
        "outputId": "a54ecc59-9c95-4149-fc9f-c36265a2eeb4"
      },
      "execution_count": 55,
      "outputs": [
        {
          "output_type": "error",
          "ename": "TypeError",
          "evalue": "ignored",
          "traceback": [
            "\u001b[0;31m---------------------------------------------------------------------------\u001b[0m",
            "\u001b[0;31mTypeError\u001b[0m                                 Traceback (most recent call last)",
            "\u001b[0;32m<ipython-input-55-35edda93c4d5>\u001b[0m in \u001b[0;36m<cell line: 4>\u001b[0;34m()\u001b[0m\n\u001b[1;32m      2\u001b[0m     \u001b[0mprint\u001b[0m\u001b[0;34m(\u001b[0m\u001b[0ma\u001b[0m\u001b[0;34m,\u001b[0m \u001b[0mtype\u001b[0m\u001b[0;34m(\u001b[0m\u001b[0ma\u001b[0m\u001b[0;34m)\u001b[0m\u001b[0;34m)\u001b[0m\u001b[0;34m\u001b[0m\u001b[0;34m\u001b[0m\u001b[0m\n\u001b[1;32m      3\u001b[0m     \u001b[0;32mreturn\u001b[0m \u001b[0mb\u001b[0m\u001b[0;34m+\u001b[0m\u001b[0msum\u001b[0m\u001b[0;34m(\u001b[0m\u001b[0ma\u001b[0m\u001b[0;34m)\u001b[0m\u001b[0;34m\u001b[0m\u001b[0;34m\u001b[0m\u001b[0m\n\u001b[0;32m----> 4\u001b[0;31m \u001b[0mfunc\u001b[0m\u001b[0;34m(\u001b[0m\u001b[0;34m)\u001b[0m\u001b[0;34m\u001b[0m\u001b[0;34m\u001b[0m\u001b[0m\n\u001b[0m",
            "\u001b[0;31mTypeError\u001b[0m: func() missing 1 required positional argument: 'b'"
          ]
        }
      ]
    },
    {
      "cell_type": "markdown",
      "source": [
        "- Argument is name of variable function accepts while Parameter is Value"
      ],
      "metadata": {
        "id": "L7BWr5G39htX"
      }
    },
    {
      "cell_type": "code",
      "source": [
        "def func(b,*a):\n",
        "    print(a, type(a))\n",
        "    return b+sum(a)\n",
        "func(20,30)"
      ],
      "metadata": {
        "colab": {
          "base_uri": "https://localhost:8080/"
        },
        "id": "-x3kdgdY9ZRg",
        "outputId": "d7c473a6-9c75-4a30-daa9-6ace475ca77c"
      },
      "execution_count": 57,
      "outputs": [
        {
          "output_type": "stream",
          "name": "stdout",
          "text": [
            "(30,) <class 'tuple'>\n"
          ]
        },
        {
          "output_type": "execute_result",
          "data": {
            "text/plain": [
              "50"
            ]
          },
          "metadata": {},
          "execution_count": 57
        }
      ]
    },
    {
      "cell_type": "markdown",
      "source": [
        "### Arbitrary named argument"
      ],
      "metadata": {
        "id": "APVRE1D8-DTD"
      }
    },
    {
      "cell_type": "code",
      "source": [
        "def func(**a):\n",
        "    print(a, type(a))\n",
        "    return a\n",
        "func(b=20,c=30)"
      ],
      "metadata": {
        "colab": {
          "base_uri": "https://localhost:8080/"
        },
        "id": "Wl5QAr5a94ru",
        "outputId": "91b33d05-4a37-4cee-b2a9-0ef4bbdba52e"
      },
      "execution_count": 58,
      "outputs": [
        {
          "output_type": "stream",
          "name": "stdout",
          "text": [
            "{'b': 20, 'c': 30} <class 'dict'>\n"
          ]
        },
        {
          "output_type": "execute_result",
          "data": {
            "text/plain": [
              "{'b': 20, 'c': 30}"
            ]
          },
          "metadata": {},
          "execution_count": 58
        }
      ]
    },
    {
      "cell_type": "code",
      "source": [
        "def func(**kwarg):\n",
        "    dict1 = {\"id\":101,\n",
        "             \"name\":\"Sachin\"}\n",
        "    dict1.update(kwarg)\n",
        "    return dict1\n",
        "func(Salary=10000, module=\"Python Adv\")"
      ],
      "metadata": {
        "colab": {
          "base_uri": "https://localhost:8080/"
        },
        "id": "OjQJDL4e-Nza",
        "outputId": "c14636e4-b121-4f54-f38b-4a5a586bac60"
      },
      "execution_count": 59,
      "outputs": [
        {
          "output_type": "execute_result",
          "data": {
            "text/plain": [
              "{'id': 101, 'name': 'Sachin', 'Salary': 10000, 'module': 'Python Adv'}"
            ]
          },
          "metadata": {},
          "execution_count": 59
        }
      ]
    },
    {
      "cell_type": "code",
      "source": [
        "{1,2}=={2,1,1}"
      ],
      "metadata": {
        "colab": {
          "base_uri": "https://localhost:8080/"
        },
        "id": "ScYItQ8q-pzO",
        "outputId": "45b32e12-308c-44df-e021-185f75b07f59"
      },
      "execution_count": 60,
      "outputs": [
        {
          "output_type": "execute_result",
          "data": {
            "text/plain": [
              "True"
            ]
          },
          "metadata": {},
          "execution_count": 60
        }
      ]
    },
    {
      "cell_type": "code",
      "source": [],
      "metadata": {
        "id": "8aUWDxxQ_4Bu"
      },
      "execution_count": null,
      "outputs": []
    }
  ]
}