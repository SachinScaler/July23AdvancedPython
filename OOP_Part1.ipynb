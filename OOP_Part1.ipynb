{
  "nbformat": 4,
  "nbformat_minor": 0,
  "metadata": {
    "colab": {
      "provenance": [],
      "authorship_tag": "ABX9TyM3AWJOE1KzJuLPoJ9CiM5C",
      "include_colab_link": true
    },
    "kernelspec": {
      "name": "python3",
      "display_name": "Python 3"
    },
    "language_info": {
      "name": "python"
    }
  },
  "cells": [
    {
      "cell_type": "markdown",
      "metadata": {
        "id": "view-in-github",
        "colab_type": "text"
      },
      "source": [
        "<a href=\"https://colab.research.google.com/github/SachinScaler/July23AdvancedPython/blob/main/OOP_Part1.ipynb\" target=\"_parent\"><img src=\"https://colab.research.google.com/assets/colab-badge.svg\" alt=\"Open In Colab\"/></a>"
      ]
    },
    {
      "cell_type": "code",
      "execution_count": 4,
      "metadata": {
        "id": "EcnZ546cno_c"
      },
      "outputs": [],
      "source": [
        "# empty class\n",
        "class Student:\n",
        "    #attributes\n",
        "    #methods\n",
        "    pass # do nothing\n"
      ]
    },
    {
      "cell_type": "code",
      "source": [
        "s1 = Student()\n",
        "print(type(s1))"
      ],
      "metadata": {
        "colab": {
          "base_uri": "https://localhost:8080/"
        },
        "id": "lNfR6T2nxmwH",
        "outputId": "b8eb5bee-66e6-4642-c193-87ba0f1d0329"
      },
      "execution_count": 6,
      "outputs": [
        {
          "output_type": "stream",
          "name": "stdout",
          "text": [
            "<class '__main__.Student'>\n"
          ]
        }
      ]
    },
    {
      "cell_type": "code",
      "source": [
        "s2 = Student()\n",
        "print(type(s2))"
      ],
      "metadata": {
        "colab": {
          "base_uri": "https://localhost:8080/"
        },
        "id": "R9fd0EBhxy2w",
        "outputId": "c895aa5b-b961-41cd-c9f2-5747f8d2e531"
      },
      "execution_count": 7,
      "outputs": [
        {
          "output_type": "stream",
          "name": "stdout",
          "text": [
            "<class '__main__.Student'>\n"
          ]
        }
      ]
    },
    {
      "cell_type": "code",
      "source": [
        "dir(s1)"
      ],
      "metadata": {
        "colab": {
          "base_uri": "https://localhost:8080/"
        },
        "id": "tLsroN53x8Vf",
        "outputId": "b1ca0e88-f659-48ab-b125-742d3cdd615a"
      },
      "execution_count": 8,
      "outputs": [
        {
          "output_type": "execute_result",
          "data": {
            "text/plain": [
              "['__class__',\n",
              " '__delattr__',\n",
              " '__dict__',\n",
              " '__dir__',\n",
              " '__doc__',\n",
              " '__eq__',\n",
              " '__format__',\n",
              " '__ge__',\n",
              " '__getattribute__',\n",
              " '__gt__',\n",
              " '__hash__',\n",
              " '__init__',\n",
              " '__init_subclass__',\n",
              " '__le__',\n",
              " '__lt__',\n",
              " '__module__',\n",
              " '__ne__',\n",
              " '__new__',\n",
              " '__reduce__',\n",
              " '__reduce_ex__',\n",
              " '__repr__',\n",
              " '__setattr__',\n",
              " '__sizeof__',\n",
              " '__str__',\n",
              " '__subclasshook__',\n",
              " '__weakref__']"
            ]
          },
          "metadata": {},
          "execution_count": 8
        }
      ]
    },
    {
      "cell_type": "markdown",
      "source": [
        "- dunder methods: `__method__`"
      ],
      "metadata": {
        "id": "tDZwaazhzDUm"
      }
    },
    {
      "cell_type": "code",
      "source": [
        "# everything in python is an object\n",
        "a = 10\n",
        "isinstance(a, str)"
      ],
      "metadata": {
        "colab": {
          "base_uri": "https://localhost:8080/"
        },
        "id": "A8M771V2yIF6",
        "outputId": "a152099f-b165-4d68-ae90-eb4d93717ea9"
      },
      "execution_count": 10,
      "outputs": [
        {
          "output_type": "execute_result",
          "data": {
            "text/plain": [
              "False"
            ]
          },
          "metadata": {},
          "execution_count": 10
        }
      ]
    },
    {
      "cell_type": "code",
      "source": [
        "isinstance(a, object)"
      ],
      "metadata": {
        "colab": {
          "base_uri": "https://localhost:8080/"
        },
        "id": "9pGDj0-4ywps",
        "outputId": "20f145b0-a849-476d-d9f7-ccc54741d4c9"
      },
      "execution_count": 11,
      "outputs": [
        {
          "output_type": "execute_result",
          "data": {
            "text/plain": [
              "True"
            ]
          },
          "metadata": {},
          "execution_count": 11
        }
      ]
    },
    {
      "cell_type": "code",
      "source": [
        "isinstance(s1, object)"
      ],
      "metadata": {
        "colab": {
          "base_uri": "https://localhost:8080/"
        },
        "id": "V_RaID14y1AC",
        "outputId": "f4748003-fbe9-4e51-b52b-3f1f9ce33cac"
      },
      "execution_count": 12,
      "outputs": [
        {
          "output_type": "execute_result",
          "data": {
            "text/plain": [
              "True"
            ]
          },
          "metadata": {},
          "execution_count": 12
        }
      ]
    },
    {
      "cell_type": "code",
      "source": [
        "isinstance(Student, object)"
      ],
      "metadata": {
        "colab": {
          "base_uri": "https://localhost:8080/"
        },
        "id": "Oi9JV1ZTy47s",
        "outputId": "2b0e2758-95dc-4f71-bb77-e9b59c70af50"
      },
      "execution_count": 13,
      "outputs": [
        {
          "output_type": "execute_result",
          "data": {
            "text/plain": [
              "True"
            ]
          },
          "metadata": {},
          "execution_count": 13
        }
      ]
    },
    {
      "cell_type": "code",
      "source": [
        "print(10+20)"
      ],
      "metadata": {
        "colab": {
          "base_uri": "https://localhost:8080/"
        },
        "id": "ELzgnQg9y8D_",
        "outputId": "8b5e4678-6e96-472c-8ea4-7021cbc2c5ba"
      },
      "execution_count": 14,
      "outputs": [
        {
          "output_type": "stream",
          "name": "stdout",
          "text": [
            "30\n"
          ]
        }
      ]
    },
    {
      "cell_type": "code",
      "source": [
        "print(\"10\"+\"20\")"
      ],
      "metadata": {
        "colab": {
          "base_uri": "https://localhost:8080/"
        },
        "id": "SEy4l6S-1O8Y",
        "outputId": "02c924ee-9484-4e5d-e852-2a0d002f2c96"
      },
      "execution_count": 15,
      "outputs": [
        {
          "output_type": "stream",
          "name": "stdout",
          "text": [
            "1020\n"
          ]
        }
      ]
    },
    {
      "cell_type": "code",
      "source": [
        "class Student:\n",
        "    batch = \"APR23Advanced\" # attribute: Class Variable or Static Variable\n",
        "\n",
        "    def func1(): # method\n",
        "        print(\"Studying Numpy and Pandas\")\n",
        "\n",
        "\n",
        "s1 = Student()\n",
        "# . operator to access attributes and methods using object\n",
        "print(s1.batch)"
      ],
      "metadata": {
        "colab": {
          "base_uri": "https://localhost:8080/"
        },
        "id": "oSnHvKFG1R5N",
        "outputId": "5799506f-9b94-4f1a-835f-6605085ee65a"
      },
      "execution_count": 16,
      "outputs": [
        {
          "output_type": "stream",
          "name": "stdout",
          "text": [
            "APR23Advanced\n"
          ]
        }
      ]
    },
    {
      "cell_type": "code",
      "source": [
        "s2 = Student()\n",
        "# . operator to access attributes and methods using object\n",
        "print(s2.batch)"
      ],
      "metadata": {
        "colab": {
          "base_uri": "https://localhost:8080/"
        },
        "id": "ewVE-QQI2Ifu",
        "outputId": "aee2634d-f003-4422-8337-bdcec1da1854"
      },
      "execution_count": 17,
      "outputs": [
        {
          "output_type": "stream",
          "name": "stdout",
          "text": [
            "APR23Advanced\n"
          ]
        }
      ]
    },
    {
      "cell_type": "code",
      "source": [
        "print(id(s1))\n",
        "print(id(s2))"
      ],
      "metadata": {
        "colab": {
          "base_uri": "https://localhost:8080/"
        },
        "id": "mbezWKKb2Nai",
        "outputId": "4bf79544-42ec-4d08-a7ea-d2e89543bdcf"
      },
      "execution_count": 18,
      "outputs": [
        {
          "output_type": "stream",
          "name": "stdout",
          "text": [
            "134087566303696\n",
            "134087566303120\n"
          ]
        }
      ]
    },
    {
      "cell_type": "code",
      "source": [
        "# change using class name\n",
        "Student.batch = \"July23Advance\"\n",
        "print(s1.batch)\n",
        "print(s2.batch)"
      ],
      "metadata": {
        "colab": {
          "base_uri": "https://localhost:8080/"
        },
        "id": "CfT6wH_Z2SHp",
        "outputId": "5fc5e76f-8194-4d7f-bd25-e29a425c13e9"
      },
      "execution_count": 19,
      "outputs": [
        {
          "output_type": "stream",
          "name": "stdout",
          "text": [
            "July23Advance\n",
            "July23Advance\n"
          ]
        }
      ]
    },
    {
      "cell_type": "code",
      "source": [
        "s3 = Student()\n",
        "print(s3.batch)"
      ],
      "metadata": {
        "colab": {
          "base_uri": "https://localhost:8080/"
        },
        "id": "94e77E872zDO",
        "outputId": "ab141309-b80b-40e2-d6b4-2bd94d764299"
      },
      "execution_count": 20,
      "outputs": [
        {
          "output_type": "stream",
          "name": "stdout",
          "text": [
            "July23Advance\n"
          ]
        }
      ]
    },
    {
      "cell_type": "code",
      "source": [
        "# change batch using object\n",
        "s1.batch = \"Apr23Advance\" # we didnot change the class Varible instead we created a new instance Varible\n",
        "print(s1.batch)"
      ],
      "metadata": {
        "colab": {
          "base_uri": "https://localhost:8080/"
        },
        "id": "p0COUGpj3Npe",
        "outputId": "efd55150-001f-454f-8d12-8b22b5fec171"
      },
      "execution_count": 21,
      "outputs": [
        {
          "output_type": "stream",
          "name": "stdout",
          "text": [
            "Apr23Advance\n"
          ]
        }
      ]
    },
    {
      "cell_type": "code",
      "source": [
        "print(Student.batch)"
      ],
      "metadata": {
        "colab": {
          "base_uri": "https://localhost:8080/"
        },
        "id": "6P-CaWuP3py_",
        "outputId": "e67e6bd7-7bd8-42e8-90fd-0956822900d8"
      },
      "execution_count": 24,
      "outputs": [
        {
          "output_type": "stream",
          "name": "stdout",
          "text": [
            "July23Advance\n"
          ]
        }
      ]
    },
    {
      "cell_type": "code",
      "source": [
        "print(s2.batch)\n",
        "print(s3.batch)"
      ],
      "metadata": {
        "colab": {
          "base_uri": "https://localhost:8080/"
        },
        "id": "tjZdrDTI3cmr",
        "outputId": "2472a411-41f2-4b65-d10d-cc01ea831a55"
      },
      "execution_count": 22,
      "outputs": [
        {
          "output_type": "stream",
          "name": "stdout",
          "text": [
            "July23Advance\n",
            "July23Advance\n"
          ]
        }
      ]
    },
    {
      "cell_type": "code",
      "source": [
        "s2.name = \"Paul\"\n",
        "print(s3.name)"
      ],
      "metadata": {
        "colab": {
          "base_uri": "https://localhost:8080/",
          "height": 175
        },
        "id": "2Arr2Mxf3f1M",
        "outputId": "7300c04e-8501-4955-98c8-15961cc6043d"
      },
      "execution_count": 25,
      "outputs": [
        {
          "output_type": "error",
          "ename": "AttributeError",
          "evalue": "ignored",
          "traceback": [
            "\u001b[0;31m---------------------------------------------------------------------------\u001b[0m",
            "\u001b[0;31mAttributeError\u001b[0m                            Traceback (most recent call last)",
            "\u001b[0;32m<ipython-input-25-de02e793f5f8>\u001b[0m in \u001b[0;36m<cell line: 2>\u001b[0;34m()\u001b[0m\n\u001b[1;32m      1\u001b[0m \u001b[0ms2\u001b[0m\u001b[0;34m.\u001b[0m\u001b[0mname\u001b[0m \u001b[0;34m=\u001b[0m \u001b[0;34m\"Paul\"\u001b[0m\u001b[0;34m\u001b[0m\u001b[0;34m\u001b[0m\u001b[0m\n\u001b[0;32m----> 2\u001b[0;31m \u001b[0mprint\u001b[0m\u001b[0;34m(\u001b[0m\u001b[0ms3\u001b[0m\u001b[0;34m.\u001b[0m\u001b[0mname\u001b[0m\u001b[0;34m)\u001b[0m\u001b[0;34m\u001b[0m\u001b[0;34m\u001b[0m\u001b[0m\n\u001b[0m",
            "\u001b[0;31mAttributeError\u001b[0m: 'Student' object has no attribute 'name'"
          ]
        }
      ]
    },
    {
      "cell_type": "code",
      "source": [
        "print(s2.name)"
      ],
      "metadata": {
        "colab": {
          "base_uri": "https://localhost:8080/"
        },
        "id": "QuCNyCjO4BZA",
        "outputId": "8e77f739-6b97-4206-d563-55a300a6ccc2"
      },
      "execution_count": 26,
      "outputs": [
        {
          "output_type": "stream",
          "name": "stdout",
          "text": [
            "Paul\n"
          ]
        }
      ]
    },
    {
      "cell_type": "markdown",
      "source": [
        "Instances can have their unqiue attributes which can be created using instance Variable\n",
        "while Class Variable is used for creating common/Shared attribute across all objects"
      ],
      "metadata": {
        "id": "ZjQOBqWp4Q6X"
      }
    },
    {
      "cell_type": "code",
      "source": [
        "s1 = Student()\n",
        "s1.name = \"Udaya\"\n",
        "\n",
        "s2 = Student()\n",
        "s2.name = \"Vamsy\"\n",
        "\n",
        "s3 = Student()\n",
        "s3.name = \"Paul\"\n",
        "\n",
        "print(s1.name)\n",
        "print(s2.name)\n",
        "print(s3.name)"
      ],
      "metadata": {
        "colab": {
          "base_uri": "https://localhost:8080/"
        },
        "id": "-JpCfkWS4EpC",
        "outputId": "ca972037-bb7d-4196-bc79-7c11e7efdf6a"
      },
      "execution_count": 28,
      "outputs": [
        {
          "output_type": "stream",
          "name": "stdout",
          "text": [
            "Udaya\n",
            "Vamsy\n",
            "Paul\n"
          ]
        }
      ]
    },
    {
      "cell_type": "code",
      "source": [
        "print(s1.batch)\n",
        "print(s2.batch)\n",
        "print(s3.batch)"
      ],
      "metadata": {
        "colab": {
          "base_uri": "https://localhost:8080/"
        },
        "id": "0_CP5eNm40KH",
        "outputId": "2ae989e3-ede6-4a36-9cea-5f33c8bfe026"
      },
      "execution_count": 29,
      "outputs": [
        {
          "output_type": "stream",
          "name": "stdout",
          "text": [
            "July23Advance\n",
            "July23Advance\n",
            "July23Advance\n"
          ]
        }
      ]
    },
    {
      "cell_type": "markdown",
      "source": [
        "Constructor"
      ],
      "metadata": {
        "id": "JmEz9CnQ5IWh"
      }
    },
    {
      "cell_type": "code",
      "source": [
        "s1.profession = \"DS\"\n",
        "s2.profession = \"MLE\"\n",
        "s2.profession = \"DS\""
      ],
      "metadata": {
        "id": "T8EFOT_r5EvB"
      },
      "execution_count": 30,
      "outputs": []
    },
    {
      "cell_type": "markdown",
      "source": [
        "`__init__`: Override initializer"
      ],
      "metadata": {
        "id": "aHcd0hQ75vQK"
      }
    },
    {
      "cell_type": "code",
      "source": [
        "class Student:\n",
        "    # def __init__(name, profession):\n",
        "    #     pass\n",
        "    def getdetails(self):\n",
        "        print(\"Name of Student: \", self.name)\n",
        "        print(\"Profession of Student: \", self.profession)\n",
        "s1 = Student()\n",
        "s1.name = \"Sachin\"\n",
        "s1.profession= \"MLE\"\n"
      ],
      "metadata": {
        "id": "8VSGJyFt5Wlo"
      },
      "execution_count": 41,
      "outputs": []
    },
    {
      "cell_type": "code",
      "source": [
        "print(s1.name)"
      ],
      "metadata": {
        "colab": {
          "base_uri": "https://localhost:8080/"
        },
        "id": "C_0rVjLm6Ypn",
        "outputId": "fe98c0f2-d24b-4d8c-f48b-bfc36c50c941"
      },
      "execution_count": 42,
      "outputs": [
        {
          "output_type": "stream",
          "name": "stdout",
          "text": [
            "Sachin\n"
          ]
        }
      ]
    },
    {
      "cell_type": "code",
      "source": [
        "print(name)"
      ],
      "metadata": {
        "colab": {
          "base_uri": "https://localhost:8080/",
          "height": 158
        },
        "id": "G2Qaoc-L7XUP",
        "outputId": "f9ced383-d11e-41fa-dbab-af24a7bc2498"
      },
      "execution_count": 43,
      "outputs": [
        {
          "output_type": "error",
          "ename": "NameError",
          "evalue": "ignored",
          "traceback": [
            "\u001b[0;31m---------------------------------------------------------------------------\u001b[0m",
            "\u001b[0;31mNameError\u001b[0m                                 Traceback (most recent call last)",
            "\u001b[0;32m<ipython-input-43-9ba126b17b03>\u001b[0m in \u001b[0;36m<cell line: 1>\u001b[0;34m()\u001b[0m\n\u001b[0;32m----> 1\u001b[0;31m \u001b[0mprint\u001b[0m\u001b[0;34m(\u001b[0m\u001b[0mname\u001b[0m\u001b[0;34m)\u001b[0m\u001b[0;34m\u001b[0m\u001b[0;34m\u001b[0m\u001b[0m\n\u001b[0m",
            "\u001b[0;31mNameError\u001b[0m: name 'name' is not defined"
          ]
        }
      ]
    },
    {
      "cell_type": "code",
      "source": [
        "s1.getdetails() #behind the scene s1 will be automatically passed to getdetails as first argument: getdetails(s1)"
      ],
      "metadata": {
        "colab": {
          "base_uri": "https://localhost:8080/"
        },
        "id": "Gius2Wo26k9w",
        "outputId": "401fa567-8574-42fd-f793-4b37560011ef"
      },
      "execution_count": 44,
      "outputs": [
        {
          "output_type": "stream",
          "name": "stdout",
          "text": [
            "Name of Student:  Sachin\n",
            "Profession of Student:  MLE\n"
          ]
        }
      ]
    },
    {
      "cell_type": "code",
      "source": [
        "s2 = Student()\n",
        "s2.name = \"Udaya\"\n",
        "s2.profession= \"DS\"\n",
        "s2.getdetails() # self stores the value as object which is calling the method\n",
        "# wherever we are accessing self.name , it would be replaced with s2.name"
      ],
      "metadata": {
        "colab": {
          "base_uri": "https://localhost:8080/"
        },
        "id": "R-ufZkl86v00",
        "outputId": "6ce40014-db0f-4ccf-a40f-e1f778ec9c06"
      },
      "execution_count": 45,
      "outputs": [
        {
          "output_type": "stream",
          "name": "stdout",
          "text": [
            "Name of Student:  Udaya\n",
            "Profession of Student:  DS\n"
          ]
        }
      ]
    },
    {
      "cell_type": "markdown",
      "source": [
        "## SELF is reference to object itself"
      ],
      "metadata": {
        "id": "TYA_0xBO-quA"
      }
    },
    {
      "cell_type": "code",
      "source": [
        "class Student:\n",
        "    # def __init__(name, profession):\n",
        "    #     pass\n",
        "    def getdetails(self):\n",
        "        print(\"ID of Self\",id(self))\n",
        "\n",
        "s1 = Student()\n",
        "print(id(s1))"
      ],
      "metadata": {
        "colab": {
          "base_uri": "https://localhost:8080/"
        },
        "id": "K49tLBY-793y",
        "outputId": "42fb0139-276b-465a-ba2d-41259ec11dd7"
      },
      "execution_count": 49,
      "outputs": [
        {
          "output_type": "stream",
          "name": "stdout",
          "text": [
            "134087566716128\n"
          ]
        }
      ]
    },
    {
      "cell_type": "code",
      "source": [
        "s1.getdetails()"
      ],
      "metadata": {
        "colab": {
          "base_uri": "https://localhost:8080/"
        },
        "id": "QjEIRX-b8LM7",
        "outputId": "7b93c643-c2e4-4755-d3d8-0e5c11f5c428"
      },
      "execution_count": 50,
      "outputs": [
        {
          "output_type": "stream",
          "name": "stdout",
          "text": [
            "ID of Self 134087566716128\n"
          ]
        }
      ]
    },
    {
      "cell_type": "code",
      "source": [
        "s2 = Student()\n",
        "print(id(s2))\n",
        "s2.getdetails()"
      ],
      "metadata": {
        "colab": {
          "base_uri": "https://localhost:8080/"
        },
        "id": "KCWGbaDk8UFc",
        "outputId": "1b5fe71d-b453-4c49-e36f-8c66f4879520"
      },
      "execution_count": 52,
      "outputs": [
        {
          "output_type": "stream",
          "name": "stdout",
          "text": [
            "134087566717376\n",
            "ID of Self 134087566717376\n"
          ]
        }
      ]
    },
    {
      "cell_type": "code",
      "source": [
        "class Student:\n",
        "    def __init__(self,name, profession):\n",
        "         self.name = name\n",
        "         self.profession =profession\n",
        "    def getdetails(self):\n",
        "        print(\"Name of Student: \", self.name)\n",
        "        print(\"Profession of Student: \", self.profession)\n",
        "s1 = Student(\"Sachin\", \"DSE\")\n",
        "print(s1.name, s1.profession)"
      ],
      "metadata": {
        "colab": {
          "base_uri": "https://localhost:8080/"
        },
        "id": "j5QSYat_8eAn",
        "outputId": "9abfb5ff-4f37-4aaf-ee1a-124d7e3f6d04"
      },
      "execution_count": 56,
      "outputs": [
        {
          "output_type": "stream",
          "name": "stdout",
          "text": [
            "Sachin DSE\n"
          ]
        }
      ]
    },
    {
      "cell_type": "code",
      "source": [
        "class Student:\n",
        "    def __init__(self,name, profession):\n",
        "         self.- = name\n",
        "         self.profession =profession\n",
        "    def getdetails(self):\n",
        "        print(\"Name of Student: \", self.name)\n",
        "        print(\"Profession of Student: \", self.profession)\n",
        "s2 = Student(\"Udaya\", \"MLE\")\n",
        "print(s2.name, s2.profession)"
      ],
      "metadata": {
        "colab": {
          "base_uri": "https://localhost:8080/"
        },
        "id": "mRw6ORu-9CF5",
        "outputId": "011122c0-8297-48fb-8bcb-3ea8b880d507"
      },
      "execution_count": 57,
      "outputs": [
        {
          "output_type": "stream",
          "name": "stdout",
          "text": [
            "Udaya MLE\n"
          ]
        }
      ]
    },
    {
      "cell_type": "markdown",
      "source": [
        "Create student Class and object and Assign rollno starting from 100 to every object of student class alongwith Name and Profession"
      ],
      "metadata": {
        "id": "83lKcFOs9e_g"
      }
    },
    {
      "cell_type": "code",
      "source": [
        "class Student:\n",
        "    roll_no=100\n",
        "    def __init__(self, name, profession):\n",
        "        self.rollno = Student.roll_no\n",
        "        Student.roll_no+=1 # we are updating the class varible\n",
        "        self.name = name\n",
        "        self.profession = profession\n",
        "    def get_details(self):\n",
        "        print('Roll No.:', self.rollno)\n",
        "        print('Name:', self.name)\n",
        "        print('Profession:', self.profession)\n",
        "\n",
        "\n",
        "s1 = Student(\"A\",\"DS\")\n",
        "print(Student.roll_no)\n",
        "s2 = Student(\"B\",\"DS\")\n",
        "print(Student.roll_no)\n",
        "s3 = Student(\"c\",\"ML\")\n",
        "print(Student.roll_no)"
      ],
      "metadata": {
        "colab": {
          "base_uri": "https://localhost:8080/"
        },
        "id": "p1RasNh59Hb9",
        "outputId": "7b15b29c-38fe-44a9-be41-85ba2a2e22cc"
      },
      "execution_count": 63,
      "outputs": [
        {
          "output_type": "stream",
          "name": "stdout",
          "text": [
            "101\n",
            "102\n",
            "103\n"
          ]
        }
      ]
    },
    {
      "cell_type": "code",
      "source": [
        "class Student:\n",
        "    roll_no=[100]\n",
        "    batch = \"APR23\"\n",
        "    def funct(self):\n",
        "        print(self.roll_no)\n",
        "        print(Student.roll_no)\n",
        "        (Student.roll_no.append(101))\n",
        "s1 = Student()\n",
        "s1.funct()"
      ],
      "metadata": {
        "colab": {
          "base_uri": "https://localhost:8080/"
        },
        "id": "QEM3LfiDAi5Y",
        "outputId": "6c23ebbe-15bf-4abc-e78e-b5a033800202"
      },
      "execution_count": 70,
      "outputs": [
        {
          "output_type": "stream",
          "name": "stdout",
          "text": [
            "[100]\n",
            "[100]\n"
          ]
        }
      ]
    },
    {
      "cell_type": "code",
      "source": [
        "print(s1.roll_no)"
      ],
      "metadata": {
        "colab": {
          "base_uri": "https://localhost:8080/"
        },
        "id": "7Qd-O1VxB1LH",
        "outputId": "edc682c4-2ca9-431b-c742-3b0cadd071fa"
      },
      "execution_count": 67,
      "outputs": [
        {
          "output_type": "stream",
          "name": "stdout",
          "text": [
            "[100, 101]\n"
          ]
        }
      ]
    },
    {
      "cell_type": "code",
      "source": [
        "print(Student.roll_no)"
      ],
      "metadata": {
        "colab": {
          "base_uri": "https://localhost:8080/"
        },
        "id": "kFFHhjCnCT-k",
        "outputId": "c3ac9b06-d1ea-46b3-b45a-2cbc52717cf0"
      },
      "execution_count": 68,
      "outputs": [
        {
          "output_type": "stream",
          "name": "stdout",
          "text": [
            "[100, 101]\n"
          ]
        }
      ]
    },
    {
      "cell_type": "code",
      "source": [
        "print(id(s1.roll_no))\n",
        "print(id(Student.roll_no))"
      ],
      "metadata": {
        "colab": {
          "base_uri": "https://localhost:8080/"
        },
        "id": "ahLyvWFyCYtk",
        "outputId": "83670616-8a1c-4d56-f691-b2db774a8ea3"
      },
      "execution_count": 69,
      "outputs": [
        {
          "output_type": "stream",
          "name": "stdout",
          "text": [
            "134087565516992\n",
            "134087565516992\n"
          ]
        }
      ]
    },
    {
      "cell_type": "code",
      "source": [
        "print(s1.batch)\n",
        "print(Student.batch)"
      ],
      "metadata": {
        "colab": {
          "base_uri": "https://localhost:8080/"
        },
        "id": "DLrjXUkDCfgW",
        "outputId": "8f0d8df7-fc3b-4a96-86fb-fb7468ac7c73"
      },
      "execution_count": 72,
      "outputs": [
        {
          "output_type": "stream",
          "name": "stdout",
          "text": [
            "APR23\n",
            "APR23\n"
          ]
        }
      ]
    },
    {
      "cell_type": "code",
      "source": [
        "s1.batch = \"July23\""
      ],
      "metadata": {
        "id": "SOTJnLHWCuiJ"
      },
      "execution_count": 73,
      "outputs": []
    },
    {
      "cell_type": "code",
      "source": [
        "print(s1.batch)\n",
        "print(Student.batch)"
      ],
      "metadata": {
        "colab": {
          "base_uri": "https://localhost:8080/"
        },
        "id": "0D9gERjRC0D9",
        "outputId": "675ad1b4-a29e-41f2-d9da-495ce1510f0d"
      },
      "execution_count": 74,
      "outputs": [
        {
          "output_type": "stream",
          "name": "stdout",
          "text": [
            "July23\n",
            "APR23\n"
          ]
        }
      ]
    },
    {
      "cell_type": "code",
      "source": [
        "print(id(s1.batch))\n",
        "print(id(Student.batch))"
      ],
      "metadata": {
        "colab": {
          "base_uri": "https://localhost:8080/"
        },
        "id": "ynFxa_49C2hl",
        "outputId": "b6564cf4-39bc-4df8-e76c-4bf789c4a8ee"
      },
      "execution_count": 75,
      "outputs": [
        {
          "output_type": "stream",
          "name": "stdout",
          "text": [
            "134087566455408\n",
            "134087565152496\n"
          ]
        }
      ]
    },
    {
      "cell_type": "code",
      "source": [
        "s1.roll_no.append(1000)\n",
        "print(s1.roll_no)"
      ],
      "metadata": {
        "colab": {
          "base_uri": "https://localhost:8080/"
        },
        "id": "xX9423MwC8fF",
        "outputId": "4dcd12a1-38c8-43ef-caa2-9f5453bbe3ac"
      },
      "execution_count": 76,
      "outputs": [
        {
          "output_type": "stream",
          "name": "stdout",
          "text": [
            "[100, 101, 1000]\n"
          ]
        }
      ]
    },
    {
      "cell_type": "code",
      "source": [
        "print(Student.roll_no)"
      ],
      "metadata": {
        "colab": {
          "base_uri": "https://localhost:8080/"
        },
        "id": "DqUeglIRDKNN",
        "outputId": "b2545368-0442-47a8-9877-b54cb0176e6a"
      },
      "execution_count": 77,
      "outputs": [
        {
          "output_type": "stream",
          "name": "stdout",
          "text": [
            "[100, 101, 1000]\n"
          ]
        }
      ]
    },
    {
      "cell_type": "markdown",
      "source": [
        "```\n",
        "Note: When updating a class variable using an object -\n",
        "    - In case of immutable - New Instance Variable created\n",
        "    - In case of mutable - Original Class Variable updated\n",
        "```"
      ],
      "metadata": {
        "id": "QLAM6vD2DWC_"
      }
    },
    {
      "cell_type": "markdown",
      "source": [
        "- Access Specifier\n",
        "- Inheritance"
      ],
      "metadata": {
        "id": "FSE3o5-CD8QK"
      }
    },
    {
      "cell_type": "code",
      "source": [
        "class Dog:\n",
        "\n",
        "    kind = \"canine\"\n",
        "\n",
        "    def __init__(self, var):\n",
        "        self.name=var\n",
        "d1 = Dog(\"Luffy\")\n",
        "d1.name"
      ],
      "metadata": {
        "colab": {
          "base_uri": "https://localhost:8080/",
          "height": 34
        },
        "id": "Vbh8kcCPDObf",
        "outputId": "4f4f4d99-1354-4c27-ae3b-274075eecf9a"
      },
      "execution_count": 80,
      "outputs": [
        {
          "output_type": "execute_result",
          "data": {
            "text/plain": [
              "'Luffy'"
            ],
            "application/vnd.google.colaboratory.intrinsic+json": {
              "type": "string"
            }
          },
          "metadata": {},
          "execution_count": 80
        }
      ]
    },
    {
      "cell_type": "code",
      "source": [
        "class BA:\n",
        "  Var = \"SBI\"\n",
        "  IFSC=101\n",
        "  def __init__(self, acc_id, name, balance):\n",
        "    self.id = acc_id\n",
        "    self.name = name\n",
        "    self.bal = balance\n",
        "\n",
        "c1 = BA(101, \"Sachin\",1000)\n",
        "c1.pancard = 1234\n",
        "\n",
        "print(c1.__dict__)"
      ],
      "metadata": {
        "colab": {
          "base_uri": "https://localhost:8080/"
        },
        "id": "iMyh00shE8jm",
        "outputId": "58d98515-56f1-4cbc-ca76-de28c9afff29"
      },
      "execution_count": 82,
      "outputs": [
        {
          "output_type": "stream",
          "name": "stdout",
          "text": [
            "{'id': 101, 'name': 'Sachin', 'bal': 1000, 'pancard': 1234}\n"
          ]
        }
      ]
    },
    {
      "cell_type": "code",
      "source": [
        "class Student:\n",
        "  batch = 'June22'\n",
        "  def __init__(self, name):\n",
        "    self.name = name\n",
        "  def get_person_name(self):\n",
        "    print(self.name)\n",
        "\n",
        "p1=Student(\"Needa\")\n",
        "Student.batch = 'July22'\n",
        "p2=Student(\"Chayan\")\n",
        "\n",
        "print(Student.batch, p1.batch, p2.batch)"
      ],
      "metadata": {
        "id": "_dk1TREJFyay"
      },
      "execution_count": null,
      "outputs": []
    }
  ]
}